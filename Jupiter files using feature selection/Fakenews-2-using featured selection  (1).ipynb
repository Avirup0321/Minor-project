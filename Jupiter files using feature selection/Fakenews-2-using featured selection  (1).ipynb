{
 "cells": [
  {
   "cell_type": "code",
   "execution_count": 1,
   "id": "4f220e03",
   "metadata": {},
   "outputs": [],
   "source": [
    "import numpy as np\n",
    "import pandas as pd\n",
    "import re\n",
    "from nltk.corpus import stopwords\n",
    "from nltk.stem.porter import PorterStemmer\n",
    "from sklearn.feature_extraction.text import TfidfVectorizer\n",
    "from sklearn.model_selection import train_test_split"
   ]
  },
  {
   "cell_type": "code",
   "execution_count": 2,
   "id": "fc5e22df",
   "metadata": {},
   "outputs": [
    {
     "name": "stderr",
     "output_type": "stream",
     "text": [
      "[nltk_data] Downloading package stopwords to\n",
      "[nltk_data]     C:\\Users\\KIIT\\AppData\\Roaming\\nltk_data...\n",
      "[nltk_data]   Package stopwords is already up-to-date!\n"
     ]
    },
    {
     "data": {
      "text/plain": [
       "True"
      ]
     },
     "execution_count": 2,
     "metadata": {},
     "output_type": "execute_result"
    }
   ],
   "source": [
    "import nltk\n",
    "nltk.download('stopwords')"
   ]
  },
  {
   "cell_type": "code",
   "execution_count": 3,
   "id": "1ca5cbea",
   "metadata": {},
   "outputs": [
    {
     "name": "stdout",
     "output_type": "stream",
     "text": [
      "['i', 'me', 'my', 'myself', 'we', 'our', 'ours', 'ourselves', 'you', \"you're\", \"you've\", \"you'll\", \"you'd\", 'your', 'yours', 'yourself', 'yourselves', 'he', 'him', 'his', 'himself', 'she', \"she's\", 'her', 'hers', 'herself', 'it', \"it's\", 'its', 'itself', 'they', 'them', 'their', 'theirs', 'themselves', 'what', 'which', 'who', 'whom', 'this', 'that', \"that'll\", 'these', 'those', 'am', 'is', 'are', 'was', 'were', 'be', 'been', 'being', 'have', 'has', 'had', 'having', 'do', 'does', 'did', 'doing', 'a', 'an', 'the', 'and', 'but', 'if', 'or', 'because', 'as', 'until', 'while', 'of', 'at', 'by', 'for', 'with', 'about', 'against', 'between', 'into', 'through', 'during', 'before', 'after', 'above', 'below', 'to', 'from', 'up', 'down', 'in', 'out', 'on', 'off', 'over', 'under', 'again', 'further', 'then', 'once', 'here', 'there', 'when', 'where', 'why', 'how', 'all', 'any', 'both', 'each', 'few', 'more', 'most', 'other', 'some', 'such', 'no', 'nor', 'not', 'only', 'own', 'same', 'so', 'than', 'too', 'very', 's', 't', 'can', 'will', 'just', 'don', \"don't\", 'should', \"should've\", 'now', 'd', 'll', 'm', 'o', 're', 've', 'y', 'ain', 'aren', \"aren't\", 'couldn', \"couldn't\", 'didn', \"didn't\", 'doesn', \"doesn't\", 'hadn', \"hadn't\", 'hasn', \"hasn't\", 'haven', \"haven't\", 'isn', \"isn't\", 'ma', 'mightn', \"mightn't\", 'mustn', \"mustn't\", 'needn', \"needn't\", 'shan', \"shan't\", 'shouldn', \"shouldn't\", 'wasn', \"wasn't\", 'weren', \"weren't\", 'won', \"won't\", 'wouldn', \"wouldn't\"]\n"
     ]
    }
   ],
   "source": [
    "print(stopwords.words('english'))"
   ]
  },
  {
   "cell_type": "code",
   "execution_count": 4,
   "id": "be493d18",
   "metadata": {},
   "outputs": [],
   "source": [
    "fake_news=pd.read_csv(\"fake_or_real_news.csv\")\n",
    "true_news=pd.read_csv(\"True_1.csv\")"
   ]
  },
  {
   "cell_type": "code",
   "execution_count": 5,
   "id": "b5b5c379",
   "metadata": {},
   "outputs": [],
   "source": [
    "fake_news['label'] = 0\n",
    "true_news['label'] = 1"
   ]
  },
  {
   "cell_type": "code",
   "execution_count": 6,
   "id": "c381f6d7",
   "metadata": {},
   "outputs": [
    {
     "data": {
      "text/html": [
       "<div>\n",
       "<style scoped>\n",
       "    .dataframe tbody tr th:only-of-type {\n",
       "        vertical-align: middle;\n",
       "    }\n",
       "\n",
       "    .dataframe tbody tr th {\n",
       "        vertical-align: top;\n",
       "    }\n",
       "\n",
       "    .dataframe thead th {\n",
       "        text-align: right;\n",
       "    }\n",
       "</style>\n",
       "<table border=\"1\" class=\"dataframe\">\n",
       "  <thead>\n",
       "    <tr style=\"text-align: right;\">\n",
       "      <th></th>\n",
       "      <th>Unnamed: 0</th>\n",
       "      <th>title</th>\n",
       "      <th>text</th>\n",
       "      <th>label</th>\n",
       "      <th>subject</th>\n",
       "      <th>date</th>\n",
       "    </tr>\n",
       "  </thead>\n",
       "  <tbody>\n",
       "    <tr>\n",
       "      <th>0</th>\n",
       "      <td>8476.0</td>\n",
       "      <td>You Can Smell Hillary’s Fear</td>\n",
       "      <td>Daniel Greenfield, a Shillman Journalism Fello...</td>\n",
       "      <td>0</td>\n",
       "      <td>NaN</td>\n",
       "      <td>NaN</td>\n",
       "    </tr>\n",
       "    <tr>\n",
       "      <th>1</th>\n",
       "      <td>10294.0</td>\n",
       "      <td>Watch The Exact Moment Paul Ryan Committed Pol...</td>\n",
       "      <td>Google Pinterest Digg Linkedin Reddit Stumbleu...</td>\n",
       "      <td>0</td>\n",
       "      <td>NaN</td>\n",
       "      <td>NaN</td>\n",
       "    </tr>\n",
       "    <tr>\n",
       "      <th>2</th>\n",
       "      <td>3608.0</td>\n",
       "      <td>Kerry to go to Paris in gesture of sympathy</td>\n",
       "      <td>U.S. Secretary of State John F. Kerry said Mon...</td>\n",
       "      <td>0</td>\n",
       "      <td>NaN</td>\n",
       "      <td>NaN</td>\n",
       "    </tr>\n",
       "    <tr>\n",
       "      <th>3</th>\n",
       "      <td>10142.0</td>\n",
       "      <td>Bernie supporters on Twitter erupt in anger ag...</td>\n",
       "      <td>— Kaydee King (@KaydeeKing) November 9, 2016 T...</td>\n",
       "      <td>0</td>\n",
       "      <td>NaN</td>\n",
       "      <td>NaN</td>\n",
       "    </tr>\n",
       "    <tr>\n",
       "      <th>4</th>\n",
       "      <td>875.0</td>\n",
       "      <td>The Battle of New York: Why This Primary Matters</td>\n",
       "      <td>It's primary day in New York and front-runners...</td>\n",
       "      <td>0</td>\n",
       "      <td>NaN</td>\n",
       "      <td>NaN</td>\n",
       "    </tr>\n",
       "  </tbody>\n",
       "</table>\n",
       "</div>"
      ],
      "text/plain": [
       "   Unnamed: 0                                              title  \\\n",
       "0      8476.0                       You Can Smell Hillary’s Fear   \n",
       "1     10294.0  Watch The Exact Moment Paul Ryan Committed Pol...   \n",
       "2      3608.0        Kerry to go to Paris in gesture of sympathy   \n",
       "3     10142.0  Bernie supporters on Twitter erupt in anger ag...   \n",
       "4       875.0   The Battle of New York: Why This Primary Matters   \n",
       "\n",
       "                                                text  label subject date  \n",
       "0  Daniel Greenfield, a Shillman Journalism Fello...      0     NaN  NaN  \n",
       "1  Google Pinterest Digg Linkedin Reddit Stumbleu...      0     NaN  NaN  \n",
       "2  U.S. Secretary of State John F. Kerry said Mon...      0     NaN  NaN  \n",
       "3  — Kaydee King (@KaydeeKing) November 9, 2016 T...      0     NaN  NaN  \n",
       "4  It's primary day in New York and front-runners...      0     NaN  NaN  "
      ]
     },
     "execution_count": 6,
     "metadata": {},
     "output_type": "execute_result"
    }
   ],
   "source": [
    "news_dataset = pd.concat([fake_news, true_news], axis =0 )\n",
    "news_dataset.head()"
   ]
  },
  {
   "cell_type": "code",
   "execution_count": 7,
   "id": "f12e1ceb",
   "metadata": {},
   "outputs": [
    {
     "data": {
      "text/html": [
       "<div>\n",
       "<style scoped>\n",
       "    .dataframe tbody tr th:only-of-type {\n",
       "        vertical-align: middle;\n",
       "    }\n",
       "\n",
       "    .dataframe tbody tr th {\n",
       "        vertical-align: top;\n",
       "    }\n",
       "\n",
       "    .dataframe thead th {\n",
       "        text-align: right;\n",
       "    }\n",
       "</style>\n",
       "<table border=\"1\" class=\"dataframe\">\n",
       "  <thead>\n",
       "    <tr style=\"text-align: right;\">\n",
       "      <th></th>\n",
       "      <th>Unnamed: 0</th>\n",
       "      <th>title</th>\n",
       "      <th>text</th>\n",
       "      <th>label</th>\n",
       "      <th>subject</th>\n",
       "      <th>date</th>\n",
       "    </tr>\n",
       "  </thead>\n",
       "  <tbody>\n",
       "    <tr>\n",
       "      <th>489</th>\n",
       "      <td>NaN</td>\n",
       "      <td>Senate Republicans shove tax bill ahead as Dem...</td>\n",
       "      <td>WASHINGTON (Reuters) - U.S. Senate Republicans...</td>\n",
       "      <td>1</td>\n",
       "      <td>politicsNews</td>\n",
       "      <td>November 28, 2017</td>\n",
       "    </tr>\n",
       "    <tr>\n",
       "      <th>12591</th>\n",
       "      <td>NaN</td>\n",
       "      <td>Philippine senator criticizes 'reckless disreg...</td>\n",
       "      <td>MANILA (Reuters) - Philippine public officials...</td>\n",
       "      <td>1</td>\n",
       "      <td>worldnews</td>\n",
       "      <td>December 11, 2017</td>\n",
       "    </tr>\n",
       "    <tr>\n",
       "      <th>14994</th>\n",
       "      <td>NaN</td>\n",
       "      <td>Southeast Asia summit draft statement skips ov...</td>\n",
       "      <td>MANILA (Reuters) - A draft of the statement to...</td>\n",
       "      <td>1</td>\n",
       "      <td>worldnews</td>\n",
       "      <td>November 13, 2017</td>\n",
       "    </tr>\n",
       "    <tr>\n",
       "      <th>5817</th>\n",
       "      <td>1253.0</td>\n",
       "      <td>Inside Bernie Sanders’s quest to win over Neva...</td>\n",
       "      <td>EAST LAS VEGAS — \"Nevada is especially importa...</td>\n",
       "      <td>0</td>\n",
       "      <td>NaN</td>\n",
       "      <td>NaN</td>\n",
       "    </tr>\n",
       "    <tr>\n",
       "      <th>11289</th>\n",
       "      <td>NaN</td>\n",
       "      <td>U.S. sanctions North Korean missile experts, R...</td>\n",
       "      <td>WASHINGTON/MOSCOW (Reuters) - The United State...</td>\n",
       "      <td>1</td>\n",
       "      <td>worldnews</td>\n",
       "      <td>December 26, 2017</td>\n",
       "    </tr>\n",
       "  </tbody>\n",
       "</table>\n",
       "</div>"
      ],
      "text/plain": [
       "       Unnamed: 0                                              title  \\\n",
       "489           NaN  Senate Republicans shove tax bill ahead as Dem...   \n",
       "12591         NaN  Philippine senator criticizes 'reckless disreg...   \n",
       "14994         NaN  Southeast Asia summit draft statement skips ov...   \n",
       "5817       1253.0  Inside Bernie Sanders’s quest to win over Neva...   \n",
       "11289         NaN  U.S. sanctions North Korean missile experts, R...   \n",
       "\n",
       "                                                    text  label       subject  \\\n",
       "489    WASHINGTON (Reuters) - U.S. Senate Republicans...      1  politicsNews   \n",
       "12591  MANILA (Reuters) - Philippine public officials...      1     worldnews   \n",
       "14994  MANILA (Reuters) - A draft of the statement to...      1     worldnews   \n",
       "5817   EAST LAS VEGAS — \"Nevada is especially importa...      0           NaN   \n",
       "11289  WASHINGTON/MOSCOW (Reuters) - The United State...      1     worldnews   \n",
       "\n",
       "                     date  \n",
       "489    November 28, 2017   \n",
       "12591  December 11, 2017   \n",
       "14994  November 13, 2017   \n",
       "5817                  NaN  \n",
       "11289  December 26, 2017   "
      ]
     },
     "execution_count": 7,
     "metadata": {},
     "output_type": "execute_result"
    }
   ],
   "source": [
    "news_dataset = news_dataset.sample(len(news_dataset))\n",
    "news_dataset.head()"
   ]
  },
  {
   "cell_type": "code",
   "execution_count": 8,
   "id": "c73b2db9",
   "metadata": {},
   "outputs": [
    {
     "data": {
      "text/plain": [
       "(27752, 6)"
      ]
     },
     "execution_count": 8,
     "metadata": {},
     "output_type": "execute_result"
    }
   ],
   "source": [
    "news_dataset.shape"
   ]
  },
  {
   "cell_type": "code",
   "execution_count": 9,
   "id": "6c810082",
   "metadata": {},
   "outputs": [
    {
     "data": {
      "text/plain": [
       "Unnamed: 0    21417\n",
       "title             0\n",
       "text              0\n",
       "label             0\n",
       "subject        6335\n",
       "date           6335\n",
       "dtype: int64"
      ]
     },
     "execution_count": 9,
     "metadata": {},
     "output_type": "execute_result"
    }
   ],
   "source": [
    "news_dataset.isnull().sum()"
   ]
  },
  {
   "cell_type": "code",
   "execution_count": 10,
   "id": "d099f830",
   "metadata": {},
   "outputs": [
    {
     "name": "stdout",
     "output_type": "stream",
     "text": [
      "489      Senate Republicans shove tax bill ahead as Dem...\n",
      "12591    Philippine senator criticizes 'reckless disreg...\n",
      "14994    Southeast Asia summit draft statement skips ov...\n",
      "5817     Inside Bernie Sanders’s quest to win over Neva...\n",
      "11289    U.S. sanctions North Korean missile experts, R...\n",
      "                               ...                        \n",
      "8430     Hackers targeted Trump campaign, Republican Pa...\n",
      "2259                Hillary Clinton has a deep commitment.\n",
      "3965      Trump questions why U.S. Civil War had to happen\n",
      "21198    Jails, justice system at breaking point as Phi...\n",
      "16282    U.S. backs Spanish efforts to block break-away...\n",
      "Name: title, Length: 27752, dtype: object\n"
     ]
    }
   ],
   "source": [
    "print(news_dataset['title'])"
   ]
  },
  {
   "cell_type": "code",
   "execution_count": 11,
   "id": "f359a073",
   "metadata": {},
   "outputs": [],
   "source": [
    "port_stem = PorterStemmer()"
   ]
  },
  {
   "cell_type": "code",
   "execution_count": 12,
   "id": "d59a6fca",
   "metadata": {},
   "outputs": [],
   "source": [
    "def stemming(content):\n",
    "    stemmed_content = re.sub('[^a-zA-Z]',' ',content)\n",
    "    stemmed_content = stemmed_content.lower()\n",
    "    stemmed_content = stemmed_content.split()\n",
    "    stemmed_content = [port_stem.stem(word) for word in stemmed_content if not word in stopwords.words('english')]\n",
    "    stemmed_content = ' '.join(stemmed_content)\n",
    "    return stemmed_content"
   ]
  },
  {
   "cell_type": "code",
   "execution_count": 13,
   "id": "29df109d",
   "metadata": {},
   "outputs": [
    {
     "name": "stdout",
     "output_type": "stream",
     "text": [
      "489      senat republican shove tax bill ahead democrat...\n",
      "12591    philippin senat critic reckless disregard deng...\n",
      "14994    southeast asia summit draft statement skip roh...\n",
      "5817            insid berni sander quest win nevada latino\n",
      "11289    u sanction north korean missil expert russia o...\n",
      "                               ...                        \n",
      "8430     hacker target trump campaign republican parti ...\n",
      "2259                           hillari clinton deep commit\n",
      "3965                     trump question u civil war happen\n",
      "21198    jail justic system break point philippin drug ...\n",
      "16282     u back spanish effort block break away catalonia\n",
      "Name: title, Length: 27752, dtype: object\n"
     ]
    }
   ],
   "source": [
    "news_dataset['title'] = news_dataset['title'].apply(stemming)\n",
    "print(news_dataset['title'])"
   ]
  },
  {
   "cell_type": "code",
   "execution_count": 14,
   "id": "83b7e729",
   "metadata": {},
   "outputs": [],
   "source": [
    "x = news_dataset['title'].values\n",
    "y = news_dataset['label'].values"
   ]
  },
  {
   "cell_type": "code",
   "execution_count": 15,
   "id": "fa59dc6f",
   "metadata": {},
   "outputs": [
    {
     "name": "stdout",
     "output_type": "stream",
     "text": [
      "['senat republican shove tax bill ahead democrat fume'\n",
      " 'philippin senat critic reckless disregard dengu vaccin program'\n",
      " 'southeast asia summit draft statement skip rohingya crisi' ...\n",
      " 'trump question u civil war happen'\n",
      " 'jail justic system break point philippin drug war intensifi'\n",
      " 'u back spanish effort block break away catalonia']\n"
     ]
    }
   ],
   "source": [
    "print(x)"
   ]
  },
  {
   "cell_type": "code",
   "execution_count": 16,
   "id": "dcb93657",
   "metadata": {},
   "outputs": [
    {
     "name": "stdout",
     "output_type": "stream",
     "text": [
      "[1 1 1 ... 1 1 1]\n"
     ]
    }
   ],
   "source": [
    "print(y)"
   ]
  },
  {
   "cell_type": "code",
   "execution_count": 17,
   "id": "238cceed",
   "metadata": {},
   "outputs": [
    {
     "data": {
      "text/plain": [
       "(27752,)"
      ]
     },
     "execution_count": 17,
     "metadata": {},
     "output_type": "execute_result"
    }
   ],
   "source": [
    "y.shape"
   ]
  },
  {
   "cell_type": "code",
   "execution_count": 18,
   "id": "afbef682",
   "metadata": {},
   "outputs": [],
   "source": [
    "x_train, x_test, y_train, y_test = train_test_split(x, y, test_size=0.30)"
   ]
  },
  {
   "cell_type": "code",
   "execution_count": 19,
   "id": "8466b9da",
   "metadata": {},
   "outputs": [
    {
     "data": {
      "text/plain": [
       "array(['burundi lose bid stop u n atroc investig',\n",
       "       'man knife shot amsterdam airport suspect known offend',\n",
       "       'trump say send feder help fight chicago crime', ...,\n",
       "       'australian high court sit resolv lawmak citizenship crisi',\n",
       "       'u consum watchdog agenc offici sue block trump pick',\n",
       "       'senat committe subpoena former trump advis flynn russia'],\n",
       "      dtype=object)"
      ]
     },
     "execution_count": 19,
     "metadata": {},
     "output_type": "execute_result"
    }
   ],
   "source": [
    "x_train"
   ]
  },
  {
   "cell_type": "code",
   "execution_count": 20,
   "id": "b5bec58f",
   "metadata": {},
   "outputs": [],
   "source": [
    "vectorization = TfidfVectorizer()\n",
    "xv_train = vectorization.fit_transform(x_train)\n",
    "xv_test = vectorization.transform(x_test)"
   ]
  },
  {
   "cell_type": "code",
   "execution_count": 21,
   "id": "2ea6afac",
   "metadata": {},
   "outputs": [
    {
     "name": "stdout",
     "output_type": "stream",
     "text": [
      "  (0, 4399)\t0.3296635537972154\n",
      "  (0, 518)\t0.5146326337524102\n",
      "  (0, 8296)\t0.3468123253788847\n",
      "  (0, 816)\t0.3341687872737205\n",
      "  (0, 5055)\t0.3722828696589251\n",
      "  (0, 1177)\t0.5058983011541606\n",
      "  (1, 5994)\t0.39392038334653084\n",
      "  (1, 4738)\t0.3808604212154715\n",
      "  (1, 8462)\t0.2713199993972599\n",
      "  (1, 186)\t0.31699047335195346\n",
      "  (1, 290)\t0.4437943110627838\n",
      "  (1, 7837)\t0.3117465110897118\n",
      "  (1, 4733)\t0.3848104945682223\n",
      "  (1, 5180)\t0.28888782326143964\n",
      "  (2, 1953)\t0.4118877671441987\n",
      "  (2, 1464)\t0.4471769013684652\n",
      "  (2, 3160)\t0.33289907234298244\n",
      "  (2, 3939)\t0.3523319167151712\n",
      "  (2, 3097)\t0.40552153974416844\n",
      "  (2, 7705)\t0.4158461447303466\n",
      "  (2, 7567)\t0.18903435354623366\n",
      "  (2, 8924)\t0.1493719925295352\n",
      "  (3, 8650)\t0.38368505869339287\n",
      "  (3, 7053)\t0.4474105601896885\n",
      "  (3, 5295)\t0.26280084241286905\n",
      "  :\t:\n",
      "  (19422, 7567)\t0.1400173217190502\n",
      "  (19423, 7920)\t0.4368814638122448\n",
      "  (19423, 7227)\t0.3947108663597587\n",
      "  (19423, 1530)\t0.42658159285908837\n",
      "  (19423, 543)\t0.36429517395789285\n",
      "  (19423, 3963)\t0.3393617370891709\n",
      "  (19423, 4860)\t0.27501154588008564\n",
      "  (19423, 1897)\t0.2387808715974249\n",
      "  (19423, 1960)\t0.301398483425565\n",
      "  (19424, 9464)\t0.41766433239045636\n",
      "  (19424, 1785)\t0.43735278435629976\n",
      "  (19424, 8396)\t0.4060036077937387\n",
      "  (19424, 903)\t0.3659828779312618\n",
      "  (19424, 153)\t0.34340220992970466\n",
      "  (19424, 5999)\t0.2878469014942354\n",
      "  (19424, 6442)\t0.33745186533995497\n",
      "  (19424, 8924)\t0.1443674931499244\n",
      "  (19425, 3273)\t0.4269013910908229\n",
      "  (19425, 122)\t0.379347363421859\n",
      "  (19425, 3319)\t0.3487713601192\n",
      "  (19425, 7454)\t0.26237592091074113\n",
      "  (19425, 8372)\t0.4836158552754072\n",
      "  (19425, 1682)\t0.40119894756503544\n",
      "  (19425, 7704)\t0.2556579772583666\n",
      "  (19425, 8924)\t0.1521916630422087\n"
     ]
    }
   ],
   "source": [
    "print(xv_train)"
   ]
  },
  {
   "cell_type": "markdown",
   "id": "23e0f74f",
   "metadata": {},
   "source": [
    "###  Decision Tree Classification"
   ]
  },
  {
   "cell_type": "code",
   "execution_count": 22,
   "id": "c8d22a7e",
   "metadata": {},
   "outputs": [],
   "source": [
    "from sklearn.tree import DecisionTreeClassifier"
   ]
  },
  {
   "cell_type": "code",
   "execution_count": 23,
   "id": "b743ad43",
   "metadata": {},
   "outputs": [
    {
     "data": {
      "text/plain": [
       "DecisionTreeClassifier()"
      ]
     },
     "execution_count": 23,
     "metadata": {},
     "output_type": "execute_result"
    }
   ],
   "source": [
    "DT = DecisionTreeClassifier()\n",
    "DT.fit(xv_train, y_train)"
   ]
  },
  {
   "cell_type": "code",
   "execution_count": 24,
   "id": "67a19a47",
   "metadata": {},
   "outputs": [],
   "source": [
    "pred_dt = DT.predict(xv_test)"
   ]
  },
  {
   "cell_type": "code",
   "execution_count": 25,
   "id": "91da1f0c",
   "metadata": {},
   "outputs": [
    {
     "data": {
      "text/plain": [
       "0.8565938025462407"
      ]
     },
     "execution_count": 25,
     "metadata": {},
     "output_type": "execute_result"
    }
   ],
   "source": [
    "DT.score(xv_test, y_test)"
   ]
  },
  {
   "cell_type": "code",
   "execution_count": 26,
   "id": "3cf547b8",
   "metadata": {},
   "outputs": [],
   "source": [
    "from sklearn.metrics import classification_report"
   ]
  },
  {
   "cell_type": "code",
   "execution_count": 27,
   "id": "5a61ed9b",
   "metadata": {},
   "outputs": [
    {
     "name": "stdout",
     "output_type": "stream",
     "text": [
      "              precision    recall  f1-score   support\n",
      "\n",
      "           0       0.70      0.64      0.67      1878\n",
      "           1       0.90      0.92      0.91      6448\n",
      "\n",
      "    accuracy                           0.86      8326\n",
      "   macro avg       0.80      0.78      0.79      8326\n",
      "weighted avg       0.85      0.86      0.85      8326\n",
      "\n"
     ]
    }
   ],
   "source": [
    "print(classification_report(y_test, pred_dt))"
   ]
  },
  {
   "cell_type": "code",
   "execution_count": 28,
   "id": "5b3c34f6",
   "metadata": {},
   "outputs": [],
   "source": [
    "y_pred = DT.predict(xv_test)"
   ]
  },
  {
   "cell_type": "code",
   "execution_count": 29,
   "id": "9a4fc166",
   "metadata": {},
   "outputs": [
    {
     "name": "stdout",
     "output_type": "stream",
     "text": [
      "[[1204  674]\n",
      " [ 520 5928]]\n"
     ]
    }
   ],
   "source": [
    "from sklearn.metrics import classification_report, confusion_matrix\n",
    "print(confusion_matrix(y_test, y_pred)) "
   ]
  },
  {
   "cell_type": "code",
   "execution_count": 30,
   "id": "1f4371c4",
   "metadata": {},
   "outputs": [
    {
     "name": "stdout",
     "output_type": "stream",
     "text": [
      "Mean Absolute Error: 0.14340619745375932\n",
      "Mean Squared Error: 0.14340619745375932\n",
      "Root Mean Squared Error: 0.37869010741470305\n"
     ]
    }
   ],
   "source": [
    "from sklearn import metrics\n",
    "print('Mean Absolute Error:', metrics.mean_absolute_error(y_test, y_pred))        #error\n",
    "print('Mean Squared Error:', metrics.mean_squared_error(y_test, y_pred))\n",
    "print('Root Mean Squared Error:', np.sqrt(metrics.mean_squared_error(y_test, y_pred)))"
   ]
  },
  {
   "cell_type": "markdown",
   "id": "d5039a2f",
   "metadata": {},
   "source": [
    "###  Naive Bayes using Bernoulli naive bayes"
   ]
  },
  {
   "cell_type": "code",
   "execution_count": 31,
   "id": "e12fb22b",
   "metadata": {},
   "outputs": [],
   "source": [
    "from sklearn.naive_bayes import BernoulliNB"
   ]
  },
  {
   "cell_type": "code",
   "execution_count": 32,
   "id": "88482657",
   "metadata": {},
   "outputs": [],
   "source": [
    "BNB = BernoulliNB()"
   ]
  },
  {
   "cell_type": "code",
   "execution_count": 33,
   "id": "5c29f66f",
   "metadata": {},
   "outputs": [
    {
     "data": {
      "text/plain": [
       "BernoulliNB()"
      ]
     },
     "execution_count": 33,
     "metadata": {},
     "output_type": "execute_result"
    }
   ],
   "source": [
    "BNB.fit(xv_train, y_train)"
   ]
  },
  {
   "cell_type": "code",
   "execution_count": 34,
   "id": "488d69aa",
   "metadata": {},
   "outputs": [
    {
     "name": "stdout",
     "output_type": "stream",
     "text": [
      "              precision    recall  f1-score   support\n",
      "\n",
      "           0       0.80      0.67      0.73      1878\n",
      "           1       0.91      0.95      0.93      6448\n",
      "\n",
      "    accuracy                           0.89      8326\n",
      "   macro avg       0.86      0.81      0.83      8326\n",
      "weighted avg       0.88      0.89      0.88      8326\n",
      "\n"
     ]
    }
   ],
   "source": [
    "pred_bnb = BNB.predict(xv_test)\n",
    "BNB.score(xv_test,y_test)\n",
    "print(classification_report(y_test, pred_bnb)) "
   ]
  },
  {
   "cell_type": "code",
   "execution_count": 35,
   "id": "cf13bd0c",
   "metadata": {},
   "outputs": [
    {
     "name": "stdout",
     "output_type": "stream",
     "text": [
      "[[1251  627]\n",
      " [ 306 6142]]\n"
     ]
    }
   ],
   "source": [
    "print(confusion_matrix(y_test, pred_bnb)) "
   ]
  },
  {
   "cell_type": "code",
   "execution_count": 36,
   "id": "413404f5",
   "metadata": {},
   "outputs": [
    {
     "name": "stdout",
     "output_type": "stream",
     "text": [
      "Mean Absolute Error: 0.1120586115781888\n",
      "Mean Squared Error: 0.1120586115781888\n",
      "Root Mean Squared Error: 0.3347515669540455\n"
     ]
    }
   ],
   "source": [
    "print('Mean Absolute Error:', metrics.mean_absolute_error(y_test, pred_bnb))\n",
    "print('Mean Squared Error:', metrics.mean_squared_error(y_test, pred_bnb))                 #error\n",
    "print('Root Mean Squared Error:', np.sqrt(metrics.mean_squared_error(y_test, pred_bnb)))"
   ]
  },
  {
   "cell_type": "markdown",
   "id": "6c20962c",
   "metadata": {},
   "source": [
    "###  K nearest neighbor"
   ]
  },
  {
   "cell_type": "code",
   "execution_count": 37,
   "id": "63316e2e",
   "metadata": {},
   "outputs": [],
   "source": [
    "from sklearn.neighbors import KNeighborsClassifier"
   ]
  },
  {
   "cell_type": "code",
   "execution_count": 38,
   "id": "1ad9c58d",
   "metadata": {},
   "outputs": [
    {
     "data": {
      "text/plain": [
       "KNeighborsClassifier()"
      ]
     },
     "execution_count": 38,
     "metadata": {},
     "output_type": "execute_result"
    }
   ],
   "source": [
    "ng = KNeighborsClassifier()\n",
    "ng.fit(xv_test, y_test)"
   ]
  },
  {
   "cell_type": "code",
   "execution_count": 39,
   "id": "3a73680e",
   "metadata": {},
   "outputs": [],
   "source": [
    "pred_knn = ng.predict(xv_test)"
   ]
  },
  {
   "cell_type": "code",
   "execution_count": 40,
   "id": "08c00216",
   "metadata": {},
   "outputs": [
    {
     "data": {
      "text/plain": [
       "0.8251261109776603"
      ]
     },
     "execution_count": 40,
     "metadata": {},
     "output_type": "execute_result"
    }
   ],
   "source": [
    "ng.score(xv_test,y_test)"
   ]
  },
  {
   "cell_type": "code",
   "execution_count": 41,
   "id": "462227e0",
   "metadata": {},
   "outputs": [
    {
     "name": "stdout",
     "output_type": "stream",
     "text": [
      "              precision    recall  f1-score   support\n",
      "\n",
      "           0       0.56      1.00      0.72      1878\n",
      "           1       1.00      0.78      0.87      6448\n",
      "\n",
      "    accuracy                           0.83      8326\n",
      "   macro avg       0.78      0.89      0.80      8326\n",
      "weighted avg       0.90      0.83      0.84      8326\n",
      "\n"
     ]
    }
   ],
   "source": [
    "print(classification_report(y_test, pred_knn))      # Precision , Recall , F-measure , Accuracy"
   ]
  },
  {
   "cell_type": "code",
   "execution_count": 42,
   "id": "dde07522",
   "metadata": {},
   "outputs": [
    {
     "name": "stdout",
     "output_type": "stream",
     "text": [
      "[[1870    8]\n",
      " [1448 5000]]\n"
     ]
    }
   ],
   "source": [
    "print(confusion_matrix(y_test, pred_knn))                  #confusion Matrix"
   ]
  },
  {
   "cell_type": "code",
   "execution_count": 43,
   "id": "a5dbb38e",
   "metadata": {},
   "outputs": [
    {
     "name": "stdout",
     "output_type": "stream",
     "text": [
      "Mean Absolute Error: 0.17487388902233966\n",
      "Mean Squared Error: 0.17487388902233966\n",
      "Root Mean Squared Error: 0.41817925465324035\n"
     ]
    }
   ],
   "source": [
    "print('Mean Absolute Error:', metrics.mean_absolute_error(y_test, pred_knn))\n",
    "print('Mean Squared Error:', metrics.mean_squared_error(y_test, pred_knn))                 #error\n",
    "print('Root Mean Squared Error:', np.sqrt(metrics.mean_squared_error(y_test, pred_knn)))"
   ]
  },
  {
   "cell_type": "markdown",
   "id": "2659e520",
   "metadata": {},
   "source": [
    "### Support Vector Machine"
   ]
  },
  {
   "cell_type": "code",
   "execution_count": 44,
   "id": "39a0707b",
   "metadata": {},
   "outputs": [],
   "source": [
    "from sklearn.svm import LinearSVC"
   ]
  },
  {
   "cell_type": "code",
   "execution_count": 45,
   "id": "bccf07d5",
   "metadata": {},
   "outputs": [],
   "source": [
    "ls = LinearSVC()"
   ]
  },
  {
   "cell_type": "code",
   "execution_count": 46,
   "id": "ac1da2e3",
   "metadata": {},
   "outputs": [
    {
     "data": {
      "text/plain": [
       "LinearSVC()"
      ]
     },
     "execution_count": 46,
     "metadata": {},
     "output_type": "execute_result"
    }
   ],
   "source": [
    "ls.fit(xv_test, y_test)"
   ]
  },
  {
   "cell_type": "code",
   "execution_count": 47,
   "id": "d09229ba",
   "metadata": {},
   "outputs": [],
   "source": [
    "pred_ls = ls.predict(xv_test)"
   ]
  },
  {
   "cell_type": "code",
   "execution_count": 48,
   "id": "357c1f47",
   "metadata": {},
   "outputs": [
    {
     "data": {
      "text/plain": [
       "0.9789815037232765"
      ]
     },
     "execution_count": 48,
     "metadata": {},
     "output_type": "execute_result"
    }
   ],
   "source": [
    "ls.score(xv_test,y_test)"
   ]
  },
  {
   "cell_type": "code",
   "execution_count": 49,
   "id": "d1693a6c",
   "metadata": {},
   "outputs": [
    {
     "name": "stdout",
     "output_type": "stream",
     "text": [
      "              precision    recall  f1-score   support\n",
      "\n",
      "           0       0.99      0.92      0.95      1878\n",
      "           1       0.98      1.00      0.99      6448\n",
      "\n",
      "    accuracy                           0.98      8326\n",
      "   macro avg       0.98      0.96      0.97      8326\n",
      "weighted avg       0.98      0.98      0.98      8326\n",
      "\n"
     ]
    }
   ],
   "source": [
    "print(classification_report(y_test, pred_ls))      # Precision , Recall , F-measure , Accuracy"
   ]
  },
  {
   "cell_type": "code",
   "execution_count": 50,
   "id": "58919d74",
   "metadata": {},
   "outputs": [
    {
     "name": "stdout",
     "output_type": "stream",
     "text": [
      "[[1728  150]\n",
      " [  25 6423]]\n"
     ]
    }
   ],
   "source": [
    "print(confusion_matrix(y_test, pred_ls))                  #confusion Matrix"
   ]
  },
  {
   "cell_type": "code",
   "execution_count": 51,
   "id": "7efc19d5",
   "metadata": {},
   "outputs": [
    {
     "name": "stdout",
     "output_type": "stream",
     "text": [
      "Mean Absolute Error: 0.021018496276723517\n",
      "Mean Squared Error: 0.021018496276723517\n",
      "Root Mean Squared Error: 0.14497757163342032\n"
     ]
    }
   ],
   "source": [
    "print('Mean Absolute Error:', metrics.mean_absolute_error(y_test, pred_ls))\n",
    "print('Mean Squared Error:', metrics.mean_squared_error(y_test, pred_ls))                 #error\n",
    "print('Root Mean Squared Error:', np.sqrt(metrics.mean_squared_error(y_test, pred_ls)))"
   ]
  },
  {
   "cell_type": "markdown",
   "id": "266a4431",
   "metadata": {},
   "source": [
    "### ANN (Artificial Neural Network)"
   ]
  },
  {
   "cell_type": "code",
   "execution_count": 52,
   "id": "0c47888a",
   "metadata": {},
   "outputs": [],
   "source": [
    "from sklearn.neural_network import MLPClassifier"
   ]
  },
  {
   "cell_type": "code",
   "execution_count": 53,
   "id": "ec816ba6",
   "metadata": {},
   "outputs": [],
   "source": [
    "ann = MLPClassifier()"
   ]
  },
  {
   "cell_type": "code",
   "execution_count": 54,
   "id": "47a3b28c",
   "metadata": {},
   "outputs": [
    {
     "data": {
      "text/plain": [
       "MLPClassifier()"
      ]
     },
     "execution_count": 54,
     "metadata": {},
     "output_type": "execute_result"
    }
   ],
   "source": [
    "ann.fit(xv_test, y_test)"
   ]
  },
  {
   "cell_type": "code",
   "execution_count": 55,
   "id": "4f36ade2",
   "metadata": {},
   "outputs": [],
   "source": [
    "pred_ann = ann.predict(xv_test)"
   ]
  },
  {
   "cell_type": "code",
   "execution_count": 56,
   "id": "fcb54305",
   "metadata": {},
   "outputs": [
    {
     "data": {
      "text/plain": [
       "0.9998798943069902"
      ]
     },
     "execution_count": 56,
     "metadata": {},
     "output_type": "execute_result"
    }
   ],
   "source": [
    "ann.score(xv_test,y_test)"
   ]
  },
  {
   "cell_type": "code",
   "execution_count": 57,
   "id": "d32c5b82",
   "metadata": {},
   "outputs": [
    {
     "name": "stdout",
     "output_type": "stream",
     "text": [
      "              precision    recall  f1-score   support\n",
      "\n",
      "           0       1.00      1.00      1.00      1878\n",
      "           1       1.00      1.00      1.00      6448\n",
      "\n",
      "    accuracy                           1.00      8326\n",
      "   macro avg       1.00      1.00      1.00      8326\n",
      "weighted avg       1.00      1.00      1.00      8326\n",
      "\n"
     ]
    }
   ],
   "source": [
    "print(classification_report(y_test, pred_ann))      # Precision , Recall , F-measure , Accuracy"
   ]
  },
  {
   "cell_type": "code",
   "execution_count": 58,
   "id": "3d48d43d",
   "metadata": {},
   "outputs": [
    {
     "name": "stdout",
     "output_type": "stream",
     "text": [
      "[[1877    1]\n",
      " [   0 6448]]\n"
     ]
    }
   ],
   "source": [
    "print(confusion_matrix(y_test, pred_ann))                  #confusion Matrix"
   ]
  },
  {
   "cell_type": "code",
   "execution_count": 59,
   "id": "7530b351",
   "metadata": {},
   "outputs": [
    {
     "name": "stdout",
     "output_type": "stream",
     "text": [
      "Mean Absolute Error: 0.00012010569300984866\n",
      "Mean Squared Error: 0.00012010569300984866\n",
      "Root Mean Squared Error: 0.01095927429211664\n"
     ]
    }
   ],
   "source": [
    "print('Mean Absolute Error:', metrics.mean_absolute_error(y_test, pred_ann))\n",
    "print('Mean Squared Error:', metrics.mean_squared_error(y_test, pred_ann))                 #error\n",
    "print('Root Mean Squared Error:', np.sqrt(metrics.mean_squared_error(y_test, pred_ann)))"
   ]
  },
  {
   "cell_type": "code",
   "execution_count": null,
   "id": "c73dbe8f",
   "metadata": {},
   "outputs": [],
   "source": []
  }
 ],
 "metadata": {
  "kernelspec": {
   "display_name": "Python 3 (ipykernel)",
   "language": "python",
   "name": "python3"
  },
  "language_info": {
   "codemirror_mode": {
    "name": "ipython",
    "version": 3
   },
   "file_extension": ".py",
   "mimetype": "text/x-python",
   "name": "python",
   "nbconvert_exporter": "python",
   "pygments_lexer": "ipython3",
   "version": "3.9.7"
  }
 },
 "nbformat": 4,
 "nbformat_minor": 5
}
