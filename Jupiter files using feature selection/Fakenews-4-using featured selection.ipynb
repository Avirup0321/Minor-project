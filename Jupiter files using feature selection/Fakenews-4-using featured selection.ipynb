{
 "cells": [
  {
   "cell_type": "code",
   "execution_count": 1,
   "id": "1cbe55af",
   "metadata": {},
   "outputs": [],
   "source": [
    "import numpy as np\n",
    "import pandas as pd\n",
    "import re\n",
    "from nltk.corpus import stopwords\n",
    "from nltk.stem.porter import PorterStemmer\n",
    "from sklearn.feature_extraction.text import TfidfVectorizer\n",
    "from sklearn.model_selection import train_test_split"
   ]
  },
  {
   "cell_type": "code",
   "execution_count": 2,
   "id": "2cf6fa49",
   "metadata": {},
   "outputs": [
    {
     "name": "stderr",
     "output_type": "stream",
     "text": [
      "[nltk_data] Downloading package stopwords to\n",
      "[nltk_data]     C:\\Users\\KIIT\\AppData\\Roaming\\nltk_data...\n",
      "[nltk_data]   Package stopwords is already up-to-date!\n"
     ]
    },
    {
     "data": {
      "text/plain": [
       "True"
      ]
     },
     "execution_count": 2,
     "metadata": {},
     "output_type": "execute_result"
    }
   ],
   "source": [
    "import nltk\n",
    "nltk.download('stopwords')"
   ]
  },
  {
   "cell_type": "code",
   "execution_count": 3,
   "id": "d51fdb98",
   "metadata": {},
   "outputs": [
    {
     "name": "stdout",
     "output_type": "stream",
     "text": [
      "['i', 'me', 'my', 'myself', 'we', 'our', 'ours', 'ourselves', 'you', \"you're\", \"you've\", \"you'll\", \"you'd\", 'your', 'yours', 'yourself', 'yourselves', 'he', 'him', 'his', 'himself', 'she', \"she's\", 'her', 'hers', 'herself', 'it', \"it's\", 'its', 'itself', 'they', 'them', 'their', 'theirs', 'themselves', 'what', 'which', 'who', 'whom', 'this', 'that', \"that'll\", 'these', 'those', 'am', 'is', 'are', 'was', 'were', 'be', 'been', 'being', 'have', 'has', 'had', 'having', 'do', 'does', 'did', 'doing', 'a', 'an', 'the', 'and', 'but', 'if', 'or', 'because', 'as', 'until', 'while', 'of', 'at', 'by', 'for', 'with', 'about', 'against', 'between', 'into', 'through', 'during', 'before', 'after', 'above', 'below', 'to', 'from', 'up', 'down', 'in', 'out', 'on', 'off', 'over', 'under', 'again', 'further', 'then', 'once', 'here', 'there', 'when', 'where', 'why', 'how', 'all', 'any', 'both', 'each', 'few', 'more', 'most', 'other', 'some', 'such', 'no', 'nor', 'not', 'only', 'own', 'same', 'so', 'than', 'too', 'very', 's', 't', 'can', 'will', 'just', 'don', \"don't\", 'should', \"should've\", 'now', 'd', 'll', 'm', 'o', 're', 've', 'y', 'ain', 'aren', \"aren't\", 'couldn', \"couldn't\", 'didn', \"didn't\", 'doesn', \"doesn't\", 'hadn', \"hadn't\", 'hasn', \"hasn't\", 'haven', \"haven't\", 'isn', \"isn't\", 'ma', 'mightn', \"mightn't\", 'mustn', \"mustn't\", 'needn', \"needn't\", 'shan', \"shan't\", 'shouldn', \"shouldn't\", 'wasn', \"wasn't\", 'weren', \"weren't\", 'won', \"won't\", 'wouldn', \"wouldn't\"]\n"
     ]
    }
   ],
   "source": [
    "# printing the stopwords in English\n",
    "print(stopwords.words('english'))"
   ]
  },
  {
   "cell_type": "code",
   "execution_count": 4,
   "id": "ac09c530",
   "metadata": {},
   "outputs": [],
   "source": [
    "fake_news=pd.read_csv(\"fake-harsh.csv\")\n",
    "true_news=pd.read_csv(\"True-harsh.csv\")"
   ]
  },
  {
   "cell_type": "code",
   "execution_count": 5,
   "id": "242b1d06",
   "metadata": {},
   "outputs": [],
   "source": [
    "fake_news['label'] = 0\n",
    "true_news['label'] = 1"
   ]
  },
  {
   "cell_type": "code",
   "execution_count": 6,
   "id": "1431569b",
   "metadata": {},
   "outputs": [
    {
     "name": "stdout",
     "output_type": "stream",
     "text": [
      "(23481, 5) (21417, 5)\n"
     ]
    }
   ],
   "source": [
    "print(fake_news.shape,true_news.shape)"
   ]
  },
  {
   "cell_type": "code",
   "execution_count": 7,
   "id": "1b6060c0",
   "metadata": {},
   "outputs": [
    {
     "data": {
      "text/html": [
       "<div>\n",
       "<style scoped>\n",
       "    .dataframe tbody tr th:only-of-type {\n",
       "        vertical-align: middle;\n",
       "    }\n",
       "\n",
       "    .dataframe tbody tr th {\n",
       "        vertical-align: top;\n",
       "    }\n",
       "\n",
       "    .dataframe thead th {\n",
       "        text-align: right;\n",
       "    }\n",
       "</style>\n",
       "<table border=\"1\" class=\"dataframe\">\n",
       "  <thead>\n",
       "    <tr style=\"text-align: right;\">\n",
       "      <th></th>\n",
       "      <th>title</th>\n",
       "      <th>text</th>\n",
       "      <th>subject</th>\n",
       "      <th>date</th>\n",
       "      <th>label</th>\n",
       "    </tr>\n",
       "  </thead>\n",
       "  <tbody>\n",
       "    <tr>\n",
       "      <th>0</th>\n",
       "      <td>Donald Trump Sends Out Embarrassing New Year’...</td>\n",
       "      <td>Donald Trump just couldn t wish all Americans ...</td>\n",
       "      <td>News</td>\n",
       "      <td>December 31, 2017</td>\n",
       "      <td>0</td>\n",
       "    </tr>\n",
       "    <tr>\n",
       "      <th>1</th>\n",
       "      <td>Drunk Bragging Trump Staffer Started Russian ...</td>\n",
       "      <td>House Intelligence Committee Chairman Devin Nu...</td>\n",
       "      <td>News</td>\n",
       "      <td>December 31, 2017</td>\n",
       "      <td>0</td>\n",
       "    </tr>\n",
       "    <tr>\n",
       "      <th>2</th>\n",
       "      <td>Sheriff David Clarke Becomes An Internet Joke...</td>\n",
       "      <td>On Friday, it was revealed that former Milwauk...</td>\n",
       "      <td>News</td>\n",
       "      <td>December 30, 2017</td>\n",
       "      <td>0</td>\n",
       "    </tr>\n",
       "    <tr>\n",
       "      <th>3</th>\n",
       "      <td>Trump Is So Obsessed He Even Has Obama’s Name...</td>\n",
       "      <td>On Christmas day, Donald Trump announced that ...</td>\n",
       "      <td>News</td>\n",
       "      <td>December 29, 2017</td>\n",
       "      <td>0</td>\n",
       "    </tr>\n",
       "    <tr>\n",
       "      <th>4</th>\n",
       "      <td>Pope Francis Just Called Out Donald Trump Dur...</td>\n",
       "      <td>Pope Francis used his annual Christmas Day mes...</td>\n",
       "      <td>News</td>\n",
       "      <td>December 25, 2017</td>\n",
       "      <td>0</td>\n",
       "    </tr>\n",
       "  </tbody>\n",
       "</table>\n",
       "</div>"
      ],
      "text/plain": [
       "                                               title  \\\n",
       "0   Donald Trump Sends Out Embarrassing New Year’...   \n",
       "1   Drunk Bragging Trump Staffer Started Russian ...   \n",
       "2   Sheriff David Clarke Becomes An Internet Joke...   \n",
       "3   Trump Is So Obsessed He Even Has Obama’s Name...   \n",
       "4   Pope Francis Just Called Out Donald Trump Dur...   \n",
       "\n",
       "                                                text subject  \\\n",
       "0  Donald Trump just couldn t wish all Americans ...    News   \n",
       "1  House Intelligence Committee Chairman Devin Nu...    News   \n",
       "2  On Friday, it was revealed that former Milwauk...    News   \n",
       "3  On Christmas day, Donald Trump announced that ...    News   \n",
       "4  Pope Francis used his annual Christmas Day mes...    News   \n",
       "\n",
       "                date  label  \n",
       "0  December 31, 2017      0  \n",
       "1  December 31, 2017      0  \n",
       "2  December 30, 2017      0  \n",
       "3  December 29, 2017      0  \n",
       "4  December 25, 2017      0  "
      ]
     },
     "execution_count": 7,
     "metadata": {},
     "output_type": "execute_result"
    }
   ],
   "source": [
    "news_dataset = pd.concat([fake_news, true_news], axis =0 )\n",
    "news_dataset.head()"
   ]
  },
  {
   "cell_type": "code",
   "execution_count": 8,
   "id": "d8d05b1d",
   "metadata": {},
   "outputs": [
    {
     "data": {
      "text/html": [
       "<div>\n",
       "<style scoped>\n",
       "    .dataframe tbody tr th:only-of-type {\n",
       "        vertical-align: middle;\n",
       "    }\n",
       "\n",
       "    .dataframe tbody tr th {\n",
       "        vertical-align: top;\n",
       "    }\n",
       "\n",
       "    .dataframe thead th {\n",
       "        text-align: right;\n",
       "    }\n",
       "</style>\n",
       "<table border=\"1\" class=\"dataframe\">\n",
       "  <thead>\n",
       "    <tr style=\"text-align: right;\">\n",
       "      <th></th>\n",
       "      <th>title</th>\n",
       "      <th>text</th>\n",
       "      <th>subject</th>\n",
       "      <th>date</th>\n",
       "      <th>label</th>\n",
       "    </tr>\n",
       "  </thead>\n",
       "  <tbody>\n",
       "    <tr>\n",
       "      <th>8005</th>\n",
       "      <td>Cosmetic Company Posts Pic Of Black Woman’s L...</td>\n",
       "      <td>Racism is still very prevalent in America. And...</td>\n",
       "      <td>News</td>\n",
       "      <td>February 18, 2016</td>\n",
       "      <td>0</td>\n",
       "    </tr>\n",
       "    <tr>\n",
       "      <th>12450</th>\n",
       "      <td>BOOM! MATH SHOWS Trump Would Have Beaten Obama...</td>\n",
       "      <td>It s easy to glance at Tuesday s popular vote ...</td>\n",
       "      <td>politics</td>\n",
       "      <td>Nov 10, 2016</td>\n",
       "      <td>0</td>\n",
       "    </tr>\n",
       "    <tr>\n",
       "      <th>15284</th>\n",
       "      <td>“DEAL WITH IT”: YOU’LL LOVE WHAT TRUMP CHOSE T...</td>\n",
       "      <td>Trump s not backing down from his  in your fac...</td>\n",
       "      <td>politics</td>\n",
       "      <td>Aug 23, 2015</td>\n",
       "      <td>0</td>\n",
       "    </tr>\n",
       "    <tr>\n",
       "      <th>18162</th>\n",
       "      <td>Tokyo Governor Koike: No need for big change i...</td>\n",
       "      <td>TOKYO (Reuters) - Tokyo Governor Yuriko Koike,...</td>\n",
       "      <td>worldnews</td>\n",
       "      <td>October 6, 2017</td>\n",
       "      <td>1</td>\n",
       "    </tr>\n",
       "    <tr>\n",
       "      <th>9600</th>\n",
       "      <td>GUESS WHO’S TRYING To Tie Amnesty For Nearly 8...</td>\n",
       "      <td>Hey, Paul do you hear that huge sucking sound?...</td>\n",
       "      <td>politics</td>\n",
       "      <td>Oct 25, 2017</td>\n",
       "      <td>0</td>\n",
       "    </tr>\n",
       "  </tbody>\n",
       "</table>\n",
       "</div>"
      ],
      "text/plain": [
       "                                                   title  \\\n",
       "8005    Cosmetic Company Posts Pic Of Black Woman’s L...   \n",
       "12450  BOOM! MATH SHOWS Trump Would Have Beaten Obama...   \n",
       "15284  “DEAL WITH IT”: YOU’LL LOVE WHAT TRUMP CHOSE T...   \n",
       "18162  Tokyo Governor Koike: No need for big change i...   \n",
       "9600   GUESS WHO’S TRYING To Tie Amnesty For Nearly 8...   \n",
       "\n",
       "                                                    text    subject  \\\n",
       "8005   Racism is still very prevalent in America. And...       News   \n",
       "12450  It s easy to glance at Tuesday s popular vote ...   politics   \n",
       "15284  Trump s not backing down from his  in your fac...   politics   \n",
       "18162  TOKYO (Reuters) - Tokyo Governor Yuriko Koike,...  worldnews   \n",
       "9600   Hey, Paul do you hear that huge sucking sound?...   politics   \n",
       "\n",
       "                    date  label  \n",
       "8005   February 18, 2016      0  \n",
       "12450       Nov 10, 2016      0  \n",
       "15284       Aug 23, 2015      0  \n",
       "18162   October 6, 2017       1  \n",
       "9600        Oct 25, 2017      0  "
      ]
     },
     "execution_count": 8,
     "metadata": {},
     "output_type": "execute_result"
    }
   ],
   "source": [
    "news_dataset = news_dataset.sample(len(news_dataset))\n",
    "news_dataset.head()"
   ]
  },
  {
   "cell_type": "code",
   "execution_count": 9,
   "id": "6a5f07f9",
   "metadata": {},
   "outputs": [
    {
     "data": {
      "text/plain": [
       "(44898, 5)"
      ]
     },
     "execution_count": 9,
     "metadata": {},
     "output_type": "execute_result"
    }
   ],
   "source": [
    "news_dataset.shape"
   ]
  },
  {
   "cell_type": "code",
   "execution_count": 10,
   "id": "78f30fcf",
   "metadata": {},
   "outputs": [
    {
     "data": {
      "text/plain": [
       "title      0\n",
       "text       0\n",
       "subject    0\n",
       "date       0\n",
       "label      0\n",
       "dtype: int64"
      ]
     },
     "execution_count": 10,
     "metadata": {},
     "output_type": "execute_result"
    }
   ],
   "source": [
    "# counting the number of missing values in the dataset\n",
    "news_dataset.isnull().sum()"
   ]
  },
  {
   "cell_type": "code",
   "execution_count": 11,
   "id": "41a7b93b",
   "metadata": {},
   "outputs": [
    {
     "data": {
      "text/plain": [
       "politicsNews       11272\n",
       "worldnews          10145\n",
       "News                9050\n",
       "politics            6841\n",
       "left-news           4459\n",
       "Government News     1570\n",
       "US_News              783\n",
       "Middle-east          778\n",
       "Name: subject, dtype: int64"
      ]
     },
     "execution_count": 11,
     "metadata": {},
     "output_type": "execute_result"
    }
   ],
   "source": [
    "news_dataset.subject.value_counts()"
   ]
  },
  {
   "cell_type": "code",
   "execution_count": 12,
   "id": "e330ea1b",
   "metadata": {},
   "outputs": [
    {
     "data": {
      "text/plain": [
       "0    23481\n",
       "1    21417\n",
       "Name: label, dtype: int64"
      ]
     },
     "execution_count": 12,
     "metadata": {},
     "output_type": "execute_result"
    }
   ],
   "source": [
    "news_dataset.label.value_counts()"
   ]
  },
  {
   "cell_type": "code",
   "execution_count": 13,
   "id": "35fddc51",
   "metadata": {},
   "outputs": [],
   "source": [
    "# merging the subject name and news title\n",
    "news_dataset['content'] = news_dataset['subject']+' '+news_dataset['title']"
   ]
  },
  {
   "cell_type": "code",
   "execution_count": 14,
   "id": "01a25e65",
   "metadata": {},
   "outputs": [
    {
     "name": "stdout",
     "output_type": "stream",
     "text": [
      "8005     News  Cosmetic Company Posts Pic Of Black Woma...\n",
      "12450    politics BOOM! MATH SHOWS Trump Would Have Bea...\n",
      "15284    politics “DEAL WITH IT”: YOU’LL LOVE WHAT TRUM...\n",
      "18162    worldnews Tokyo Governor Koike: No need for bi...\n",
      "9600     politics GUESS WHO’S TRYING To Tie Amnesty For...\n",
      "                               ...                        \n",
      "7768     News  Megyn Kelly TORCHES Mike Huckabee For De...\n",
      "2803     News  Trump Regrets On Twitter Is Everything Y...\n",
      "19167    worldnews Trump aide Greenblatt returning to I...\n",
      "4864     politicsNews Exclusive: Delrahim to head Justi...\n",
      "6730     politicsNews Microsoft co-founder Gates, Trump...\n",
      "Name: content, Length: 44898, dtype: object\n"
     ]
    }
   ],
   "source": [
    "print(news_dataset['content'])"
   ]
  },
  {
   "cell_type": "markdown",
   "id": "992e041e",
   "metadata": {},
   "source": [
    "### Stemming:\n",
    "\n",
    "#### Stemming is the process of reducing a word to its Root word\n",
    "\n",
    "#### example:\n",
    "#### actor, actress, acting --> act"
   ]
  },
  {
   "cell_type": "code",
   "execution_count": 15,
   "id": "d91b3bd9",
   "metadata": {},
   "outputs": [],
   "source": [
    "port_stem = PorterStemmer()"
   ]
  },
  {
   "cell_type": "code",
   "execution_count": 16,
   "id": "b29de085",
   "metadata": {},
   "outputs": [],
   "source": [
    "def stemming(content):\n",
    "    stemmed_content = re.sub('[^a-zA-Z]',' ',content)\n",
    "    stemmed_content = stemmed_content.lower()\n",
    "    stemmed_content = stemmed_content.split()\n",
    "    stemmed_content = [port_stem.stem(word) for word in stemmed_content if not word in stopwords.words('english')]\n",
    "    stemmed_content = ' '.join(stemmed_content)\n",
    "    return stemmed_content"
   ]
  },
  {
   "cell_type": "code",
   "execution_count": 17,
   "id": "5bee0032",
   "metadata": {},
   "outputs": [
    {
     "name": "stdout",
     "output_type": "stream",
     "text": [
      "8005     news cosmet compani post pic black woman lip r...\n",
      "12450    polit boom math show trump would beaten obama ...\n",
      "15284    polit deal love trump chose symbol love americ...\n",
      "18162    worldnew tokyo governor koik need big chang mo...\n",
      "9600     polit guess tri tie amnesti nearli illeg end y...\n",
      "                               ...                        \n",
      "7768     news megyn kelli torch mike huckabe defend tru...\n",
      "2803          news trump regret twitter everyth hope would\n",
      "19167    worldnew trump aid greenblatt return israel pe...\n",
      "4864     politicsnew exclus delrahim head justic depart...\n",
      "6730     politicsnew microsoft co founder gate trump di...\n",
      "Name: content, Length: 44898, dtype: object\n"
     ]
    }
   ],
   "source": [
    "news_dataset['content'] = news_dataset['content'].apply(stemming)\n",
    "print(news_dataset['content'])"
   ]
  },
  {
   "cell_type": "code",
   "execution_count": 18,
   "id": "5788918a",
   "metadata": {},
   "outputs": [],
   "source": [
    "#separating the data and label\n",
    "x = news_dataset['content'].values\n",
    "y = news_dataset['label'].values"
   ]
  },
  {
   "cell_type": "code",
   "execution_count": 19,
   "id": "a9e05d98",
   "metadata": {
    "scrolled": true
   },
   "outputs": [
    {
     "name": "stdout",
     "output_type": "stream",
     "text": [
      "['news cosmet compani post pic black woman lip racist troll explod imag'\n",
      " 'polit boom math show trump would beaten obama romney obama elect'\n",
      " 'polit deal love trump chose symbol love america time magazin interview video'\n",
      " ... 'worldnew trump aid greenblatt return israel peac talk offici'\n",
      " 'politicsnew exclus delrahim head justic depart antitrust unit sourc'\n",
      " 'politicsnew microsoft co founder gate trump discuss innov']\n"
     ]
    }
   ],
   "source": [
    "print(x)"
   ]
  },
  {
   "cell_type": "markdown",
   "id": "2e504bc2",
   "metadata": {},
   "source": [
    "#### At the end we have only one feature to train our model which is \"content\".\n",
    "#### Now we will be converting the values of content feature from textual data to numerical data."
   ]
  },
  {
   "cell_type": "code",
   "execution_count": 20,
   "id": "017852fc",
   "metadata": {},
   "outputs": [
    {
     "name": "stdout",
     "output_type": "stream",
     "text": [
      "[0 0 0 ... 1 1 1]\n"
     ]
    }
   ],
   "source": [
    "print(y)"
   ]
  },
  {
   "cell_type": "code",
   "execution_count": 21,
   "id": "5bb42e90",
   "metadata": {},
   "outputs": [
    {
     "data": {
      "text/plain": [
       "(44898,)"
      ]
     },
     "execution_count": 21,
     "metadata": {},
     "output_type": "execute_result"
    }
   ],
   "source": [
    "y.shape"
   ]
  },
  {
   "cell_type": "code",
   "execution_count": 22,
   "id": "ea48a114",
   "metadata": {},
   "outputs": [],
   "source": [
    " x_train, x_test, y_train, y_test = train_test_split(x, y, test_size=0.30)"
   ]
  },
  {
   "cell_type": "code",
   "execution_count": 23,
   "id": "59cdec5d",
   "metadata": {},
   "outputs": [
    {
     "data": {
      "text/plain": [
       "array(['worldnew kenya opposit leader support boycott poll hold prayer',\n",
       "       'politicsnew obama cuba histor visit',\n",
       "       'worldnew uk reaffirm commit iran nuclear deal call trump may offic',\n",
       "       ...,\n",
       "       'middl east fals flag florida fbi agent pose terrorist miami sting oper',\n",
       "       'polit obama bounc ukip leader claim obama insult threat uk voter backfir actual drove voter support leav eu movement',\n",
       "       'us news video us elect voter fraud emerg'], dtype=object)"
      ]
     },
     "execution_count": 23,
     "metadata": {},
     "output_type": "execute_result"
    }
   ],
   "source": [
    "x_train"
   ]
  },
  {
   "cell_type": "code",
   "execution_count": 24,
   "id": "7c79f50e",
   "metadata": {},
   "outputs": [],
   "source": [
    "vectorization = TfidfVectorizer()\n",
    "xv_train = vectorization.fit_transform(x_train)\n",
    "xv_test = vectorization.transform(x_test)"
   ]
  },
  {
   "cell_type": "markdown",
   "id": "241386c3",
   "metadata": {},
   "source": [
    "#### So by using TfidfVectorizer, we have weighted the word counts by a measure of how often they appear in our feature and will be training our model on this numerical data."
   ]
  },
  {
   "cell_type": "code",
   "execution_count": 25,
   "id": "5295cae7",
   "metadata": {},
   "outputs": [
    {
     "name": "stdout",
     "output_type": "stream",
     "text": [
      "  (0, 8122)\t0.4323284876288718\n",
      "  (0, 4971)\t0.34740248278925384\n",
      "  (0, 8032)\t0.30813547976156436\n",
      "  (0, 1256)\t0.3988771083279019\n",
      "  (0, 10322)\t0.25651338170727317\n",
      "  (0, 5980)\t0.27895340898433185\n",
      "  (0, 7419)\t0.33489789979813217\n",
      "  (0, 5728)\t0.40433322287762075\n",
      "  (0, 11820)\t0.1381922375164093\n",
      "  (1, 11488)\t0.46959048438629636\n",
      "  (1, 4948)\t0.6043194138851937\n",
      "  (1, 2495)\t0.5360966058352427\n",
      "  (1, 7292)\t0.2982879027593892\n",
      "  (1, 8029)\t0.19469868837420823\n",
      "  (2, 7350)\t0.30896319437983466\n",
      "  (2, 6517)\t0.2731905396447903\n",
      "  (2, 10915)\t0.11517806573845224\n",
      "  (2, 1532)\t0.23561708612365767\n",
      "  (2, 2631)\t0.26966337383652367\n",
      "  (2, 7250)\t0.3064618131894948\n",
      "  (2, 5441)\t0.2802116318387114\n",
      "  (2, 2110)\t0.35882629572080577\n",
      "  (2, 8528)\t0.5240450119261368\n",
      "  (2, 11037)\t0.3076018558719207\n",
      "  (2, 11820)\t0.13406398455703608\n",
      "  :\t:\n",
      "  (31425, 6684)\t0.2071615665278077\n",
      "  (31426, 3183)\t0.31202317111248984\n",
      "  (31426, 1242)\t0.32058548644324963\n",
      "  (31426, 704)\t0.25644058742621373\n",
      "  (31426, 11038)\t0.316036054490506\n",
      "  (31426, 6940)\t0.2603610144914488\n",
      "  (31426, 5994)\t0.19973357947022466\n",
      "  (31426, 5374)\t0.24414081568510185\n",
      "  (31426, 94)\t0.23512270585949613\n",
      "  (31426, 11518)\t0.37499519508864837\n",
      "  (31426, 1922)\t0.18605982596595477\n",
      "  (31426, 3551)\t0.18068743198944265\n",
      "  (31426, 10653)\t0.20131184663058127\n",
      "  (31426, 8023)\t0.09639575705653361\n",
      "  (31426, 11037)\t0.1949048825903732\n",
      "  (31426, 7292)\t0.24839040572472032\n",
      "  (31426, 10322)\t0.15767842307706897\n",
      "  (31426, 5980)\t0.17147227699339546\n",
      "  (31427, 3393)\t0.4454978884577227\n",
      "  (31427, 11518)\t0.36101479359903366\n",
      "  (31427, 3349)\t0.29603936559444244\n",
      "  (31427, 4129)\t0.42216842152608675\n",
      "  (31427, 11319)\t0.597510434279853\n",
      "  (31427, 11445)\t0.17565721279789764\n",
      "  (31427, 7133)\t0.1321374004048275\n"
     ]
    }
   ],
   "source": [
    "print(xv_train)"
   ]
  },
  {
   "cell_type": "markdown",
   "id": "c16f8f20",
   "metadata": {},
   "source": [
    "##### Logistic Regression"
   ]
  },
  {
   "cell_type": "code",
   "execution_count": 26,
   "id": "e1abf9c2",
   "metadata": {},
   "outputs": [],
   "source": [
    "from sklearn.linear_model import LogisticRegression"
   ]
  },
  {
   "cell_type": "code",
   "execution_count": 27,
   "id": "ffe91ec5",
   "metadata": {},
   "outputs": [
    {
     "data": {
      "text/plain": [
       "LogisticRegression()"
      ]
     },
     "execution_count": 27,
     "metadata": {},
     "output_type": "execute_result"
    }
   ],
   "source": [
    "LR = LogisticRegression()\n",
    "LR.fit(xv_train,y_train)"
   ]
  },
  {
   "cell_type": "code",
   "execution_count": 28,
   "id": "4b89a624",
   "metadata": {},
   "outputs": [],
   "source": [
    "pred_lr=LR.predict(xv_test)"
   ]
  },
  {
   "cell_type": "code",
   "execution_count": 29,
   "id": "46cc376d",
   "metadata": {},
   "outputs": [
    {
     "data": {
      "text/plain": [
       "1.0"
      ]
     },
     "execution_count": 29,
     "metadata": {},
     "output_type": "execute_result"
    }
   ],
   "source": [
    "LR.score(xv_test, y_test)"
   ]
  },
  {
   "cell_type": "code",
   "execution_count": 30,
   "id": "80c07946",
   "metadata": {},
   "outputs": [],
   "source": [
    "from sklearn.metrics import classification_report"
   ]
  },
  {
   "cell_type": "code",
   "execution_count": 31,
   "id": "929e037a",
   "metadata": {},
   "outputs": [
    {
     "name": "stdout",
     "output_type": "stream",
     "text": [
      "              precision    recall  f1-score   support\n",
      "\n",
      "           0       1.00      1.00      1.00      7023\n",
      "           1       1.00      1.00      1.00      6447\n",
      "\n",
      "    accuracy                           1.00     13470\n",
      "   macro avg       1.00      1.00      1.00     13470\n",
      "weighted avg       1.00      1.00      1.00     13470\n",
      "\n"
     ]
    }
   ],
   "source": [
    "print(classification_report(y_test, pred_lr))"
   ]
  },
  {
   "cell_type": "markdown",
   "id": "ac3142a1",
   "metadata": {},
   "source": [
    "###  Decision Tree Classification"
   ]
  },
  {
   "cell_type": "code",
   "execution_count": 32,
   "id": "1a23bf13",
   "metadata": {},
   "outputs": [],
   "source": [
    "from sklearn.tree import DecisionTreeClassifier"
   ]
  },
  {
   "cell_type": "code",
   "execution_count": 33,
   "id": "38df2d30",
   "metadata": {},
   "outputs": [
    {
     "data": {
      "text/plain": [
       "DecisionTreeClassifier()"
      ]
     },
     "execution_count": 33,
     "metadata": {},
     "output_type": "execute_result"
    }
   ],
   "source": [
    "DT = DecisionTreeClassifier()\n",
    "DT.fit(xv_train, y_train)"
   ]
  },
  {
   "cell_type": "code",
   "execution_count": 34,
   "id": "ca4025e3",
   "metadata": {},
   "outputs": [],
   "source": [
    "pred_dt = DT.predict(xv_test)"
   ]
  },
  {
   "cell_type": "code",
   "execution_count": 35,
   "id": "ecf07946",
   "metadata": {},
   "outputs": [
    {
     "data": {
      "text/plain": [
       "1.0"
      ]
     },
     "execution_count": 35,
     "metadata": {},
     "output_type": "execute_result"
    }
   ],
   "source": [
    "DT.score(xv_test, y_test)"
   ]
  },
  {
   "cell_type": "code",
   "execution_count": 36,
   "id": "137c7c6f",
   "metadata": {},
   "outputs": [
    {
     "name": "stdout",
     "output_type": "stream",
     "text": [
      "              precision    recall  f1-score   support\n",
      "\n",
      "           0       1.00      1.00      1.00      7023\n",
      "           1       1.00      1.00      1.00      6447\n",
      "\n",
      "    accuracy                           1.00     13470\n",
      "   macro avg       1.00      1.00      1.00     13470\n",
      "weighted avg       1.00      1.00      1.00     13470\n",
      "\n"
     ]
    }
   ],
   "source": [
    "print(classification_report(y_test, pred_dt))"
   ]
  },
  {
   "cell_type": "code",
   "execution_count": 37,
   "id": "db0411e7",
   "metadata": {},
   "outputs": [],
   "source": [
    "y_pred = DT.predict(xv_test)  "
   ]
  },
  {
   "cell_type": "code",
   "execution_count": 38,
   "id": "8b221ac4",
   "metadata": {},
   "outputs": [
    {
     "name": "stdout",
     "output_type": "stream",
     "text": [
      "[[7023    0]\n",
      " [   0 6447]]\n"
     ]
    }
   ],
   "source": [
    "from sklearn.metrics import classification_report, confusion_matrix\n",
    "print(confusion_matrix(y_test, y_pred))                                  #confusion Matrix"
   ]
  },
  {
   "cell_type": "code",
   "execution_count": 39,
   "id": "e1f1f914",
   "metadata": {},
   "outputs": [
    {
     "name": "stdout",
     "output_type": "stream",
     "text": [
      "Mean Absolute Error: 0.0\n",
      "Mean Squared Error: 0.0\n",
      "Root Mean Squared Error: 0.0\n"
     ]
    }
   ],
   "source": [
    "from sklearn import metrics\n",
    "print('Mean Absolute Error:', metrics.mean_absolute_error(y_test, y_pred))        #error\n",
    "print('Mean Squared Error:', metrics.mean_squared_error(y_test, y_pred))\n",
    "print('Root Mean Squared Error:', np.sqrt(metrics.mean_squared_error(y_test, y_pred)))"
   ]
  },
  {
   "cell_type": "markdown",
   "id": "adcab531",
   "metadata": {},
   "source": [
    "###  Naive Bayes using Bernoulli naive bayes"
   ]
  },
  {
   "cell_type": "code",
   "execution_count": 40,
   "id": "52000431",
   "metadata": {},
   "outputs": [],
   "source": [
    "from sklearn.naive_bayes import BernoulliNB"
   ]
  },
  {
   "cell_type": "code",
   "execution_count": 41,
   "id": "80bf9c55",
   "metadata": {},
   "outputs": [],
   "source": [
    "BNB = BernoulliNB()"
   ]
  },
  {
   "cell_type": "code",
   "execution_count": 42,
   "id": "c9a4e2cf",
   "metadata": {},
   "outputs": [
    {
     "data": {
      "text/plain": [
       "BernoulliNB()"
      ]
     },
     "execution_count": 42,
     "metadata": {},
     "output_type": "execute_result"
    }
   ],
   "source": [
    "BNB.fit(xv_train, y_train)"
   ]
  },
  {
   "cell_type": "code",
   "execution_count": 43,
   "id": "9bcb9310",
   "metadata": {},
   "outputs": [],
   "source": [
    "pred_bnb = BNB.predict(xv_test)"
   ]
  },
  {
   "cell_type": "code",
   "execution_count": 44,
   "id": "a7d70d55",
   "metadata": {},
   "outputs": [
    {
     "data": {
      "text/plain": [
       "0.9971789161098737"
      ]
     },
     "execution_count": 44,
     "metadata": {},
     "output_type": "execute_result"
    }
   ],
   "source": [
    "BNB.score(xv_test,y_test)"
   ]
  },
  {
   "cell_type": "code",
   "execution_count": 45,
   "id": "588c3cc6",
   "metadata": {},
   "outputs": [
    {
     "name": "stdout",
     "output_type": "stream",
     "text": [
      "              precision    recall  f1-score   support\n",
      "\n",
      "           0       1.00      0.99      1.00      7023\n",
      "           1       0.99      1.00      1.00      6447\n",
      "\n",
      "    accuracy                           1.00     13470\n",
      "   macro avg       1.00      1.00      1.00     13470\n",
      "weighted avg       1.00      1.00      1.00     13470\n",
      "\n"
     ]
    }
   ],
   "source": [
    "print(classification_report(y_test, pred_bnb))    # Precision , Recall , F-measure , Accuracy"
   ]
  },
  {
   "cell_type": "code",
   "execution_count": 46,
   "id": "93d5ec35",
   "metadata": {},
   "outputs": [
    {
     "name": "stdout",
     "output_type": "stream",
     "text": [
      "[[6986   37]\n",
      " [   1 6446]]\n"
     ]
    }
   ],
   "source": [
    "print(confusion_matrix(y_test, pred_bnb))                  #confusion Matrix"
   ]
  },
  {
   "cell_type": "code",
   "execution_count": 47,
   "id": "96870404",
   "metadata": {},
   "outputs": [
    {
     "name": "stdout",
     "output_type": "stream",
     "text": [
      "Mean Absolute Error: 0.0028210838901262065\n",
      "Mean Squared Error: 0.0028210838901262065\n",
      "Root Mean Squared Error: 0.053113876624910426\n"
     ]
    }
   ],
   "source": [
    "print('Mean Absolute Error:', metrics.mean_absolute_error(y_test, pred_bnb))\n",
    "print('Mean Squared Error:', metrics.mean_squared_error(y_test, pred_bnb))                 #error\n",
    "print('Root Mean Squared Error:', np.sqrt(metrics.mean_squared_error(y_test, pred_bnb)))"
   ]
  },
  {
   "cell_type": "markdown",
   "id": "57248a8f",
   "metadata": {},
   "source": [
    "###  K nearest neighbor"
   ]
  },
  {
   "cell_type": "code",
   "execution_count": 48,
   "id": "dc4eae2e",
   "metadata": {},
   "outputs": [],
   "source": [
    "from sklearn.neighbors import KNeighborsClassifier"
   ]
  },
  {
   "cell_type": "code",
   "execution_count": 49,
   "id": "c11e4c8b",
   "metadata": {},
   "outputs": [
    {
     "data": {
      "text/plain": [
       "KNeighborsClassifier()"
      ]
     },
     "execution_count": 49,
     "metadata": {},
     "output_type": "execute_result"
    }
   ],
   "source": [
    "ng = KNeighborsClassifier()\n",
    "ng.fit(xv_test, y_test)"
   ]
  },
  {
   "cell_type": "code",
   "execution_count": 50,
   "id": "2da9399a",
   "metadata": {},
   "outputs": [],
   "source": [
    "pred_knn = ng.predict(xv_test)"
   ]
  },
  {
   "cell_type": "code",
   "execution_count": 51,
   "id": "c739dabd",
   "metadata": {},
   "outputs": [
    {
     "data": {
      "text/plain": [
       "0.9461766889383816"
      ]
     },
     "execution_count": 51,
     "metadata": {},
     "output_type": "execute_result"
    }
   ],
   "source": [
    "ng.score(xv_test,y_test)"
   ]
  },
  {
   "cell_type": "code",
   "execution_count": 52,
   "id": "fcaf2ffd",
   "metadata": {},
   "outputs": [
    {
     "name": "stdout",
     "output_type": "stream",
     "text": [
      "              precision    recall  f1-score   support\n",
      "\n",
      "           0       0.96      0.93      0.95      7023\n",
      "           1       0.93      0.96      0.94      6447\n",
      "\n",
      "    accuracy                           0.95     13470\n",
      "   macro avg       0.95      0.95      0.95     13470\n",
      "weighted avg       0.95      0.95      0.95     13470\n",
      "\n"
     ]
    }
   ],
   "source": [
    "print(classification_report(y_test, pred_knn))      # Precision , Recall , F-measure , Accuracy"
   ]
  },
  {
   "cell_type": "code",
   "execution_count": 53,
   "id": "86d9d645",
   "metadata": {},
   "outputs": [
    {
     "name": "stdout",
     "output_type": "stream",
     "text": [
      "[[6550  473]\n",
      " [ 252 6195]]\n"
     ]
    }
   ],
   "source": [
    "print(confusion_matrix(y_test, pred_knn))                  #confusion Matrix"
   ]
  },
  {
   "cell_type": "code",
   "execution_count": 54,
   "id": "a1812762",
   "metadata": {},
   "outputs": [
    {
     "name": "stdout",
     "output_type": "stream",
     "text": [
      "Mean Absolute Error: 0.05382331106161841\n",
      "Mean Squared Error: 0.05382331106161841\n",
      "Root Mean Squared Error: 0.23199851521425394\n"
     ]
    }
   ],
   "source": [
    "print('Mean Absolute Error:', metrics.mean_absolute_error(y_test, pred_knn))\n",
    "print('Mean Squared Error:', metrics.mean_squared_error(y_test, pred_knn))                 #error\n",
    "print('Root Mean Squared Error:', np.sqrt(metrics.mean_squared_error(y_test, pred_knn)))"
   ]
  },
  {
   "cell_type": "markdown",
   "id": "96c62905",
   "metadata": {},
   "source": [
    "### Support Vector Machine"
   ]
  },
  {
   "cell_type": "code",
   "execution_count": 55,
   "id": "c8f01031",
   "metadata": {},
   "outputs": [],
   "source": [
    "from sklearn.svm import LinearSVC"
   ]
  },
  {
   "cell_type": "code",
   "execution_count": 56,
   "id": "eed9e284",
   "metadata": {},
   "outputs": [],
   "source": [
    "ls = LinearSVC()"
   ]
  },
  {
   "cell_type": "code",
   "execution_count": 57,
   "id": "58d5cab8",
   "metadata": {},
   "outputs": [
    {
     "data": {
      "text/plain": [
       "LinearSVC()"
      ]
     },
     "execution_count": 57,
     "metadata": {},
     "output_type": "execute_result"
    }
   ],
   "source": [
    "ls.fit(xv_test, y_test)"
   ]
  },
  {
   "cell_type": "code",
   "execution_count": 58,
   "id": "a45c97c0",
   "metadata": {},
   "outputs": [],
   "source": [
    "pred_ls = ls.predict(xv_test)"
   ]
  },
  {
   "cell_type": "code",
   "execution_count": 59,
   "id": "14847386",
   "metadata": {},
   "outputs": [
    {
     "data": {
      "text/plain": [
       "1.0"
      ]
     },
     "execution_count": 59,
     "metadata": {},
     "output_type": "execute_result"
    }
   ],
   "source": [
    "ls.score(xv_test,y_test)"
   ]
  },
  {
   "cell_type": "code",
   "execution_count": 60,
   "id": "e0b050c9",
   "metadata": {},
   "outputs": [
    {
     "name": "stdout",
     "output_type": "stream",
     "text": [
      "              precision    recall  f1-score   support\n",
      "\n",
      "           0       1.00      1.00      1.00      7023\n",
      "           1       1.00      1.00      1.00      6447\n",
      "\n",
      "    accuracy                           1.00     13470\n",
      "   macro avg       1.00      1.00      1.00     13470\n",
      "weighted avg       1.00      1.00      1.00     13470\n",
      "\n"
     ]
    }
   ],
   "source": [
    "print(classification_report(y_test, pred_ls))      # Precision , Recall , F-measure , Accuracy"
   ]
  },
  {
   "cell_type": "code",
   "execution_count": 61,
   "id": "8a25ae94",
   "metadata": {},
   "outputs": [
    {
     "name": "stdout",
     "output_type": "stream",
     "text": [
      "[[7023    0]\n",
      " [   0 6447]]\n"
     ]
    }
   ],
   "source": [
    "print(confusion_matrix(y_test, pred_ls))                  #confusion Matrix"
   ]
  },
  {
   "cell_type": "code",
   "execution_count": 62,
   "id": "62155836",
   "metadata": {},
   "outputs": [
    {
     "name": "stdout",
     "output_type": "stream",
     "text": [
      "Mean Absolute Error: 0.0\n",
      "Mean Squared Error: 0.0\n",
      "Root Mean Squared Error: 0.0\n"
     ]
    }
   ],
   "source": [
    "print('Mean Absolute Error:', metrics.mean_absolute_error(y_test, pred_ls))\n",
    "print('Mean Squared Error:', metrics.mean_squared_error(y_test, pred_ls))                 #error\n",
    "print('Root Mean Squared Error:', np.sqrt(metrics.mean_squared_error(y_test, pred_ls)))"
   ]
  },
  {
   "cell_type": "markdown",
   "id": "8119cf6c",
   "metadata": {},
   "source": [
    "### ANN (Artificial Neural Network)"
   ]
  },
  {
   "cell_type": "code",
   "execution_count": 63,
   "id": "470dfea9",
   "metadata": {},
   "outputs": [],
   "source": [
    "from sklearn.neural_network import MLPClassifier"
   ]
  },
  {
   "cell_type": "code",
   "execution_count": 64,
   "id": "de29a56f",
   "metadata": {},
   "outputs": [],
   "source": [
    "ann = MLPClassifier()"
   ]
  },
  {
   "cell_type": "code",
   "execution_count": 65,
   "id": "58f9bc39",
   "metadata": {},
   "outputs": [
    {
     "data": {
      "text/plain": [
       "MLPClassifier()"
      ]
     },
     "execution_count": 65,
     "metadata": {},
     "output_type": "execute_result"
    }
   ],
   "source": [
    "ann.fit(xv_test, y_test)"
   ]
  },
  {
   "cell_type": "code",
   "execution_count": 66,
   "id": "250da9b8",
   "metadata": {},
   "outputs": [],
   "source": [
    "pred_ann = ann.predict(xv_test)"
   ]
  },
  {
   "cell_type": "code",
   "execution_count": 67,
   "id": "d22e9793",
   "metadata": {},
   "outputs": [
    {
     "data": {
      "text/plain": [
       "1.0"
      ]
     },
     "execution_count": 67,
     "metadata": {},
     "output_type": "execute_result"
    }
   ],
   "source": [
    "ann.score(xv_test,y_test)"
   ]
  },
  {
   "cell_type": "code",
   "execution_count": 68,
   "id": "17b7a676",
   "metadata": {},
   "outputs": [
    {
     "name": "stdout",
     "output_type": "stream",
     "text": [
      "              precision    recall  f1-score   support\n",
      "\n",
      "           0       1.00      1.00      1.00      7023\n",
      "           1       1.00      1.00      1.00      6447\n",
      "\n",
      "    accuracy                           1.00     13470\n",
      "   macro avg       1.00      1.00      1.00     13470\n",
      "weighted avg       1.00      1.00      1.00     13470\n",
      "\n"
     ]
    }
   ],
   "source": [
    "print(classification_report(y_test, pred_ann))      # Precision , Recall , F-measure , Accuracy"
   ]
  },
  {
   "cell_type": "code",
   "execution_count": 69,
   "id": "8fe4a8f0",
   "metadata": {},
   "outputs": [
    {
     "name": "stdout",
     "output_type": "stream",
     "text": [
      "[[7023    0]\n",
      " [   0 6447]]\n"
     ]
    }
   ],
   "source": [
    "print(confusion_matrix(y_test, pred_ann))                  #confusion Matrix"
   ]
  },
  {
   "cell_type": "code",
   "execution_count": 70,
   "id": "2cc178a5",
   "metadata": {},
   "outputs": [
    {
     "name": "stdout",
     "output_type": "stream",
     "text": [
      "Mean Absolute Error: 0.0\n",
      "Mean Squared Error: 0.0\n",
      "Root Mean Squared Error: 0.0\n"
     ]
    }
   ],
   "source": [
    "print('Mean Absolute Error:', metrics.mean_absolute_error(y_test, pred_ann))\n",
    "print('Mean Squared Error:', metrics.mean_squared_error(y_test, pred_ann))                 #error\n",
    "print('Root Mean Squared Error:', np.sqrt(metrics.mean_squared_error(y_test, pred_ann)))"
   ]
  },
  {
   "cell_type": "code",
   "execution_count": null,
   "id": "fa3b604d",
   "metadata": {},
   "outputs": [],
   "source": []
  }
 ],
 "metadata": {
  "kernelspec": {
   "display_name": "Python 3 (ipykernel)",
   "language": "python",
   "name": "python3"
  },
  "language_info": {
   "codemirror_mode": {
    "name": "ipython",
    "version": 3
   },
   "file_extension": ".py",
   "mimetype": "text/x-python",
   "name": "python",
   "nbconvert_exporter": "python",
   "pygments_lexer": "ipython3",
   "version": "3.9.7"
  }
 },
 "nbformat": 4,
 "nbformat_minor": 5
}
