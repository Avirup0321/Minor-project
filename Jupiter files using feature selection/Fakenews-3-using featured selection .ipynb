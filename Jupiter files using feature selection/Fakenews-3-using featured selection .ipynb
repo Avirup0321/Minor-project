{
 "cells": [
  {
   "cell_type": "code",
   "execution_count": 1,
   "id": "4f220e03",
   "metadata": {},
   "outputs": [],
   "source": [
    "import numpy as np\n",
    "import pandas as pd\n",
    "import re\n",
    "from nltk.corpus import stopwords\n",
    "from nltk.stem.porter import PorterStemmer\n",
    "from sklearn.feature_extraction.text import TfidfVectorizer\n",
    "from sklearn.model_selection import train_test_split"
   ]
  },
  {
   "cell_type": "code",
   "execution_count": 2,
   "id": "fc5e22df",
   "metadata": {},
   "outputs": [
    {
     "name": "stderr",
     "output_type": "stream",
     "text": [
      "[nltk_data] Downloading package stopwords to\n",
      "[nltk_data]     C:\\Users\\KIIT\\AppData\\Roaming\\nltk_data...\n",
      "[nltk_data]   Package stopwords is already up-to-date!\n"
     ]
    },
    {
     "data": {
      "text/plain": [
       "True"
      ]
     },
     "execution_count": 2,
     "metadata": {},
     "output_type": "execute_result"
    }
   ],
   "source": [
    "import nltk\n",
    "nltk.download('stopwords')"
   ]
  },
  {
   "cell_type": "code",
   "execution_count": 3,
   "id": "1ca5cbea",
   "metadata": {},
   "outputs": [
    {
     "name": "stdout",
     "output_type": "stream",
     "text": [
      "['i', 'me', 'my', 'myself', 'we', 'our', 'ours', 'ourselves', 'you', \"you're\", \"you've\", \"you'll\", \"you'd\", 'your', 'yours', 'yourself', 'yourselves', 'he', 'him', 'his', 'himself', 'she', \"she's\", 'her', 'hers', 'herself', 'it', \"it's\", 'its', 'itself', 'they', 'them', 'their', 'theirs', 'themselves', 'what', 'which', 'who', 'whom', 'this', 'that', \"that'll\", 'these', 'those', 'am', 'is', 'are', 'was', 'were', 'be', 'been', 'being', 'have', 'has', 'had', 'having', 'do', 'does', 'did', 'doing', 'a', 'an', 'the', 'and', 'but', 'if', 'or', 'because', 'as', 'until', 'while', 'of', 'at', 'by', 'for', 'with', 'about', 'against', 'between', 'into', 'through', 'during', 'before', 'after', 'above', 'below', 'to', 'from', 'up', 'down', 'in', 'out', 'on', 'off', 'over', 'under', 'again', 'further', 'then', 'once', 'here', 'there', 'when', 'where', 'why', 'how', 'all', 'any', 'both', 'each', 'few', 'more', 'most', 'other', 'some', 'such', 'no', 'nor', 'not', 'only', 'own', 'same', 'so', 'than', 'too', 'very', 's', 't', 'can', 'will', 'just', 'don', \"don't\", 'should', \"should've\", 'now', 'd', 'll', 'm', 'o', 're', 've', 'y', 'ain', 'aren', \"aren't\", 'couldn', \"couldn't\", 'didn', \"didn't\", 'doesn', \"doesn't\", 'hadn', \"hadn't\", 'hasn', \"hasn't\", 'haven', \"haven't\", 'isn', \"isn't\", 'ma', 'mightn', \"mightn't\", 'mustn', \"mustn't\", 'needn', \"needn't\", 'shan', \"shan't\", 'shouldn', \"shouldn't\", 'wasn', \"wasn't\", 'weren', \"weren't\", 'won', \"won't\", 'wouldn', \"wouldn't\"]\n"
     ]
    }
   ],
   "source": [
    "print(stopwords.words('english'))"
   ]
  },
  {
   "cell_type": "code",
   "execution_count": 4,
   "id": "be493d18",
   "metadata": {},
   "outputs": [],
   "source": [
    "fake_news=pd.read_csv(\"fake-prayash.csv\")\n",
    "true_news=pd.read_csv(\"True-prayash.csv\")"
   ]
  },
  {
   "cell_type": "code",
   "execution_count": 5,
   "id": "b5b5c379",
   "metadata": {},
   "outputs": [],
   "source": [
    "fake_news['label'] = 0\n",
    "true_news['label'] = 1"
   ]
  },
  {
   "cell_type": "code",
   "execution_count": 6,
   "id": "c381f6d7",
   "metadata": {},
   "outputs": [
    {
     "data": {
      "text/html": [
       "<div>\n",
       "<style scoped>\n",
       "    .dataframe tbody tr th:only-of-type {\n",
       "        vertical-align: middle;\n",
       "    }\n",
       "\n",
       "    .dataframe tbody tr th {\n",
       "        vertical-align: top;\n",
       "    }\n",
       "\n",
       "    .dataframe thead th {\n",
       "        text-align: right;\n",
       "    }\n",
       "</style>\n",
       "<table border=\"1\" class=\"dataframe\">\n",
       "  <thead>\n",
       "    <tr style=\"text-align: right;\">\n",
       "      <th></th>\n",
       "      <th>author</th>\n",
       "      <th>published</th>\n",
       "      <th>title</th>\n",
       "      <th>text</th>\n",
       "      <th>language</th>\n",
       "      <th>site_url</th>\n",
       "      <th>main_img_url</th>\n",
       "      <th>type</th>\n",
       "      <th>label</th>\n",
       "      <th>title_without_stopwords</th>\n",
       "      <th>text_without_stopwords</th>\n",
       "      <th>hasImage</th>\n",
       "      <th>subject</th>\n",
       "      <th>date</th>\n",
       "    </tr>\n",
       "  </thead>\n",
       "  <tbody>\n",
       "    <tr>\n",
       "      <th>0</th>\n",
       "      <td>Barracuda Brigade</td>\n",
       "      <td>2016-10-26T21:41:00.000+03:00</td>\n",
       "      <td>muslims busted they stole millions in govt ben...</td>\n",
       "      <td>print they should pay all the back all the mon...</td>\n",
       "      <td>english</td>\n",
       "      <td>100percentfedup.com</td>\n",
       "      <td>http://bb4sp.com/wp-content/uploads/2016/10/Fu...</td>\n",
       "      <td>bias</td>\n",
       "      <td>0</td>\n",
       "      <td>muslims busted stole millions govt benefits</td>\n",
       "      <td>print pay back money plus interest entire fami...</td>\n",
       "      <td>1.0</td>\n",
       "      <td>NaN</td>\n",
       "      <td>NaN</td>\n",
       "    </tr>\n",
       "    <tr>\n",
       "      <th>1</th>\n",
       "      <td>reasoning with facts</td>\n",
       "      <td>2016-10-29T08:47:11.259+03:00</td>\n",
       "      <td>re why did attorney general loretta lynch plea...</td>\n",
       "      <td>why did attorney general loretta lynch plead t...</td>\n",
       "      <td>english</td>\n",
       "      <td>100percentfedup.com</td>\n",
       "      <td>http://bb4sp.com/wp-content/uploads/2016/10/Fu...</td>\n",
       "      <td>bias</td>\n",
       "      <td>0</td>\n",
       "      <td>attorney general loretta lynch plead fifth</td>\n",
       "      <td>attorney general loretta lynch plead fifth bar...</td>\n",
       "      <td>1.0</td>\n",
       "      <td>NaN</td>\n",
       "      <td>NaN</td>\n",
       "    </tr>\n",
       "    <tr>\n",
       "      <th>2</th>\n",
       "      <td>Barracuda Brigade</td>\n",
       "      <td>2016-10-31T01:41:49.479+02:00</td>\n",
       "      <td>breaking weiner cooperating with fbi on hillar...</td>\n",
       "      <td>red state  \\nfox news sunday reported this mor...</td>\n",
       "      <td>english</td>\n",
       "      <td>100percentfedup.com</td>\n",
       "      <td>http://bb4sp.com/wp-content/uploads/2016/10/Fu...</td>\n",
       "      <td>bias</td>\n",
       "      <td>0</td>\n",
       "      <td>breaking weiner cooperating fbi hillary email ...</td>\n",
       "      <td>red state fox news sunday reported morning ant...</td>\n",
       "      <td>1.0</td>\n",
       "      <td>NaN</td>\n",
       "      <td>NaN</td>\n",
       "    </tr>\n",
       "    <tr>\n",
       "      <th>3</th>\n",
       "      <td>Fed Up</td>\n",
       "      <td>2016-11-01T05:22:00.000+02:00</td>\n",
       "      <td>pin drop speech by father of daughter kidnappe...</td>\n",
       "      <td>email kayla mueller was a prisoner and torture...</td>\n",
       "      <td>english</td>\n",
       "      <td>100percentfedup.com</td>\n",
       "      <td>http://100percentfedup.com/wp-content/uploads/...</td>\n",
       "      <td>bias</td>\n",
       "      <td>0</td>\n",
       "      <td>pin drop speech father daughter kidnapped kill...</td>\n",
       "      <td>email kayla mueller prisoner tortured isis cha...</td>\n",
       "      <td>1.0</td>\n",
       "      <td>NaN</td>\n",
       "      <td>NaN</td>\n",
       "    </tr>\n",
       "    <tr>\n",
       "      <th>4</th>\n",
       "      <td>Fed Up</td>\n",
       "      <td>2016-11-01T21:56:00.000+02:00</td>\n",
       "      <td>fantastic trumps  point plan to reform healthc...</td>\n",
       "      <td>email healthcare reform to make america great ...</td>\n",
       "      <td>english</td>\n",
       "      <td>100percentfedup.com</td>\n",
       "      <td>http://100percentfedup.com/wp-content/uploads/...</td>\n",
       "      <td>bias</td>\n",
       "      <td>0</td>\n",
       "      <td>fantastic trumps point plan reform healthcare ...</td>\n",
       "      <td>email healthcare reform make america great sin...</td>\n",
       "      <td>1.0</td>\n",
       "      <td>NaN</td>\n",
       "      <td>NaN</td>\n",
       "    </tr>\n",
       "  </tbody>\n",
       "</table>\n",
       "</div>"
      ],
      "text/plain": [
       "                 author                      published  \\\n",
       "0     Barracuda Brigade  2016-10-26T21:41:00.000+03:00   \n",
       "1  reasoning with facts  2016-10-29T08:47:11.259+03:00   \n",
       "2     Barracuda Brigade  2016-10-31T01:41:49.479+02:00   \n",
       "3                Fed Up  2016-11-01T05:22:00.000+02:00   \n",
       "4                Fed Up  2016-11-01T21:56:00.000+02:00   \n",
       "\n",
       "                                               title  \\\n",
       "0  muslims busted they stole millions in govt ben...   \n",
       "1  re why did attorney general loretta lynch plea...   \n",
       "2  breaking weiner cooperating with fbi on hillar...   \n",
       "3  pin drop speech by father of daughter kidnappe...   \n",
       "4  fantastic trumps  point plan to reform healthc...   \n",
       "\n",
       "                                                text language  \\\n",
       "0  print they should pay all the back all the mon...  english   \n",
       "1  why did attorney general loretta lynch plead t...  english   \n",
       "2  red state  \\nfox news sunday reported this mor...  english   \n",
       "3  email kayla mueller was a prisoner and torture...  english   \n",
       "4  email healthcare reform to make america great ...  english   \n",
       "\n",
       "              site_url                                       main_img_url  \\\n",
       "0  100percentfedup.com  http://bb4sp.com/wp-content/uploads/2016/10/Fu...   \n",
       "1  100percentfedup.com  http://bb4sp.com/wp-content/uploads/2016/10/Fu...   \n",
       "2  100percentfedup.com  http://bb4sp.com/wp-content/uploads/2016/10/Fu...   \n",
       "3  100percentfedup.com  http://100percentfedup.com/wp-content/uploads/...   \n",
       "4  100percentfedup.com  http://100percentfedup.com/wp-content/uploads/...   \n",
       "\n",
       "   type  label                            title_without_stopwords  \\\n",
       "0  bias      0        muslims busted stole millions govt benefits   \n",
       "1  bias      0         attorney general loretta lynch plead fifth   \n",
       "2  bias      0  breaking weiner cooperating fbi hillary email ...   \n",
       "3  bias      0  pin drop speech father daughter kidnapped kill...   \n",
       "4  bias      0  fantastic trumps point plan reform healthcare ...   \n",
       "\n",
       "                              text_without_stopwords  hasImage subject date  \n",
       "0  print pay back money plus interest entire fami...       1.0     NaN  NaN  \n",
       "1  attorney general loretta lynch plead fifth bar...       1.0     NaN  NaN  \n",
       "2  red state fox news sunday reported morning ant...       1.0     NaN  NaN  \n",
       "3  email kayla mueller prisoner tortured isis cha...       1.0     NaN  NaN  \n",
       "4  email healthcare reform make america great sin...       1.0     NaN  NaN  "
      ]
     },
     "execution_count": 6,
     "metadata": {},
     "output_type": "execute_result"
    }
   ],
   "source": [
    "news_dataset = pd.concat([fake_news, true_news], axis =0 )\n",
    "news_dataset.head()"
   ]
  },
  {
   "cell_type": "code",
   "execution_count": 7,
   "id": "f12e1ceb",
   "metadata": {},
   "outputs": [
    {
     "data": {
      "text/html": [
       "<div>\n",
       "<style scoped>\n",
       "    .dataframe tbody tr th:only-of-type {\n",
       "        vertical-align: middle;\n",
       "    }\n",
       "\n",
       "    .dataframe tbody tr th {\n",
       "        vertical-align: top;\n",
       "    }\n",
       "\n",
       "    .dataframe thead th {\n",
       "        text-align: right;\n",
       "    }\n",
       "</style>\n",
       "<table border=\"1\" class=\"dataframe\">\n",
       "  <thead>\n",
       "    <tr style=\"text-align: right;\">\n",
       "      <th></th>\n",
       "      <th>author</th>\n",
       "      <th>published</th>\n",
       "      <th>title</th>\n",
       "      <th>text</th>\n",
       "      <th>language</th>\n",
       "      <th>site_url</th>\n",
       "      <th>main_img_url</th>\n",
       "      <th>type</th>\n",
       "      <th>label</th>\n",
       "      <th>title_without_stopwords</th>\n",
       "      <th>text_without_stopwords</th>\n",
       "      <th>hasImage</th>\n",
       "      <th>subject</th>\n",
       "      <th>date</th>\n",
       "    </tr>\n",
       "  </thead>\n",
       "  <tbody>\n",
       "    <tr>\n",
       "      <th>18784</th>\n",
       "      <td>NaN</td>\n",
       "      <td>NaN</td>\n",
       "      <td>Merkel's conservatives warned not to close off...</td>\n",
       "      <td>MUNICH, Germany (Reuters) - German Chancellor ...</td>\n",
       "      <td>NaN</td>\n",
       "      <td>NaN</td>\n",
       "      <td>NaN</td>\n",
       "      <td>NaN</td>\n",
       "      <td>1</td>\n",
       "      <td>NaN</td>\n",
       "      <td>NaN</td>\n",
       "      <td>NaN</td>\n",
       "      <td>worldnews</td>\n",
       "      <td>September 28, 2017</td>\n",
       "    </tr>\n",
       "    <tr>\n",
       "      <th>13898</th>\n",
       "      <td>NaN</td>\n",
       "      <td>NaN</td>\n",
       "      <td>EU's Juncker says Dec. 4 meeting with May will...</td>\n",
       "      <td>BRUSSELS (Reuters) - The president of the Euro...</td>\n",
       "      <td>NaN</td>\n",
       "      <td>NaN</td>\n",
       "      <td>NaN</td>\n",
       "      <td>NaN</td>\n",
       "      <td>1</td>\n",
       "      <td>NaN</td>\n",
       "      <td>NaN</td>\n",
       "      <td>NaN</td>\n",
       "      <td>worldnews</td>\n",
       "      <td>November 24, 2017</td>\n",
       "    </tr>\n",
       "    <tr>\n",
       "      <th>7735</th>\n",
       "      <td>NaN</td>\n",
       "      <td>NaN</td>\n",
       "      <td>Trump gains on Clinton despite furor over wome...</td>\n",
       "      <td>NEW YORK (Reuters) - Donald Trump gained on Hi...</td>\n",
       "      <td>NaN</td>\n",
       "      <td>NaN</td>\n",
       "      <td>NaN</td>\n",
       "      <td>NaN</td>\n",
       "      <td>1</td>\n",
       "      <td>NaN</td>\n",
       "      <td>NaN</td>\n",
       "      <td>NaN</td>\n",
       "      <td>politicsNews</td>\n",
       "      <td>October 21, 2016</td>\n",
       "    </tr>\n",
       "    <tr>\n",
       "      <th>1622</th>\n",
       "      <td>NaN</td>\n",
       "      <td>NaN</td>\n",
       "      <td>Kremlin 'deeply concerned' by rising tension o...</td>\n",
       "      <td>MOSCOW (Reuters) - Moscow is deeply concerned ...</td>\n",
       "      <td>NaN</td>\n",
       "      <td>NaN</td>\n",
       "      <td>NaN</td>\n",
       "      <td>NaN</td>\n",
       "      <td>1</td>\n",
       "      <td>NaN</td>\n",
       "      <td>NaN</td>\n",
       "      <td>NaN</td>\n",
       "      <td>politicsNews</td>\n",
       "      <td>September 22, 2017</td>\n",
       "    </tr>\n",
       "    <tr>\n",
       "      <th>16592</th>\n",
       "      <td>NaN</td>\n",
       "      <td>NaN</td>\n",
       "      <td>Argentina midterm vote leaves Peronism divided...</td>\n",
       "      <td>BUENOS AIRES (Reuters) - The victory of Argent...</td>\n",
       "      <td>NaN</td>\n",
       "      <td>NaN</td>\n",
       "      <td>NaN</td>\n",
       "      <td>NaN</td>\n",
       "      <td>1</td>\n",
       "      <td>NaN</td>\n",
       "      <td>NaN</td>\n",
       "      <td>NaN</td>\n",
       "      <td>worldnews</td>\n",
       "      <td>October 24, 2017</td>\n",
       "    </tr>\n",
       "  </tbody>\n",
       "</table>\n",
       "</div>"
      ],
      "text/plain": [
       "      author published                                              title  \\\n",
       "18784    NaN       NaN  Merkel's conservatives warned not to close off...   \n",
       "13898    NaN       NaN  EU's Juncker says Dec. 4 meeting with May will...   \n",
       "7735     NaN       NaN  Trump gains on Clinton despite furor over wome...   \n",
       "1622     NaN       NaN  Kremlin 'deeply concerned' by rising tension o...   \n",
       "16592    NaN       NaN  Argentina midterm vote leaves Peronism divided...   \n",
       "\n",
       "                                                    text language site_url  \\\n",
       "18784  MUNICH, Germany (Reuters) - German Chancellor ...      NaN      NaN   \n",
       "13898  BRUSSELS (Reuters) - The president of the Euro...      NaN      NaN   \n",
       "7735   NEW YORK (Reuters) - Donald Trump gained on Hi...      NaN      NaN   \n",
       "1622   MOSCOW (Reuters) - Moscow is deeply concerned ...      NaN      NaN   \n",
       "16592  BUENOS AIRES (Reuters) - The victory of Argent...      NaN      NaN   \n",
       "\n",
       "      main_img_url type  label title_without_stopwords text_without_stopwords  \\\n",
       "18784          NaN  NaN      1                     NaN                    NaN   \n",
       "13898          NaN  NaN      1                     NaN                    NaN   \n",
       "7735           NaN  NaN      1                     NaN                    NaN   \n",
       "1622           NaN  NaN      1                     NaN                    NaN   \n",
       "16592          NaN  NaN      1                     NaN                    NaN   \n",
       "\n",
       "       hasImage       subject                 date  \n",
       "18784       NaN     worldnews  September 28, 2017   \n",
       "13898       NaN     worldnews   November 24, 2017   \n",
       "7735        NaN  politicsNews    October 21, 2016   \n",
       "1622        NaN  politicsNews  September 22, 2017   \n",
       "16592       NaN     worldnews    October 24, 2017   "
      ]
     },
     "execution_count": 7,
     "metadata": {},
     "output_type": "execute_result"
    }
   ],
   "source": [
    "news_dataset = news_dataset.sample(len(news_dataset))\n",
    "news_dataset.head()"
   ]
  },
  {
   "cell_type": "code",
   "execution_count": 8,
   "id": "c73b2db9",
   "metadata": {},
   "outputs": [
    {
     "data": {
      "text/plain": [
       "(23513, 14)"
      ]
     },
     "execution_count": 8,
     "metadata": {},
     "output_type": "execute_result"
    }
   ],
   "source": [
    "news_dataset.shape"
   ]
  },
  {
   "cell_type": "code",
   "execution_count": 9,
   "id": "6c810082",
   "metadata": {},
   "outputs": [
    {
     "data": {
      "text/plain": [
       "author                     21417\n",
       "published                  21417\n",
       "title                          0\n",
       "text                          46\n",
       "language                   21418\n",
       "site_url                   21418\n",
       "main_img_url               21418\n",
       "type                       21418\n",
       "label                          0\n",
       "title_without_stopwords    21419\n",
       "text_without_stopwords     21467\n",
       "hasImage                   21418\n",
       "subject                     2096\n",
       "date                        2096\n",
       "dtype: int64"
      ]
     },
     "execution_count": 9,
     "metadata": {},
     "output_type": "execute_result"
    }
   ],
   "source": [
    "news_dataset.isnull().sum()"
   ]
  },
  {
   "cell_type": "code",
   "execution_count": 10,
   "id": "d099f830",
   "metadata": {},
   "outputs": [
    {
     "name": "stdout",
     "output_type": "stream",
     "text": [
      "18784    Merkel's conservatives warned not to close off...\n",
      "13898    EU's Juncker says Dec. 4 meeting with May will...\n",
      "7735     Trump gains on Clinton despite furor over wome...\n",
      "1622     Kremlin 'deeply concerned' by rising tension o...\n",
      "16592    Argentina midterm vote leaves Peronism divided...\n",
      "                               ...                        \n",
      "4948     Trump's pick to lead U.S. CFTC unveils major n...\n",
      "5025     The Trump presidency on March 9 at 9:49 p.m. E...\n",
      "6580     Trump aide named to lead White House communica...\n",
      "2281     In Afghan review, Trump's frustration carries ...\n",
      "8062     Obama to veto September 11 lawsuit bill by Fri...\n",
      "Name: title, Length: 23513, dtype: object\n"
     ]
    }
   ],
   "source": [
    "print(news_dataset['title'])"
   ]
  },
  {
   "cell_type": "code",
   "execution_count": 11,
   "id": "f359a073",
   "metadata": {},
   "outputs": [],
   "source": [
    "port_stem = PorterStemmer()"
   ]
  },
  {
   "cell_type": "code",
   "execution_count": 12,
   "id": "d59a6fca",
   "metadata": {},
   "outputs": [],
   "source": [
    "def stemming(content):\n",
    "    stemmed_content = re.sub('[^a-zA-Z]',' ',content)\n",
    "    stemmed_content = stemmed_content.lower()\n",
    "    stemmed_content = stemmed_content.split()\n",
    "    stemmed_content = [port_stem.stem(word) for word in stemmed_content if not word in stopwords.words('english')]\n",
    "    stemmed_content = ' '.join(stemmed_content)\n",
    "    return stemmed_content"
   ]
  },
  {
   "cell_type": "code",
   "execution_count": 13,
   "id": "29df109d",
   "metadata": {},
   "outputs": [
    {
     "name": "stdout",
     "output_type": "stream",
     "text": [
      "18784              merkel conserv warn close coalit option\n",
      "13898    eu juncker say dec meet may show brexit progre...\n",
      "7735     trump gain clinton despit furor women elect co...\n",
      "1622     kremlin deepli concern rise tension korean pen...\n",
      "16592    argentina midterm vote leav peron divid leader...\n",
      "                               ...                        \n",
      "4948     trump pick lead u cftc unveil major new polici...\n",
      "5025                    trump presid march p est march gmt\n",
      "6580     trump aid name lead white hous commun say take...\n",
      "2281     afghan review trump frustrat carri echo obama ...\n",
      "8062     obama veto septemb lawsuit bill friday white hous\n",
      "Name: title, Length: 23513, dtype: object\n"
     ]
    }
   ],
   "source": [
    "news_dataset['title'] = news_dataset['title'].apply(stemming)\n",
    "print(news_dataset['title'])"
   ]
  },
  {
   "cell_type": "code",
   "execution_count": 14,
   "id": "83b7e729",
   "metadata": {},
   "outputs": [],
   "source": [
    "x = news_dataset['title'].values\n",
    "y = news_dataset['label'].values"
   ]
  },
  {
   "cell_type": "code",
   "execution_count": 15,
   "id": "fa59dc6f",
   "metadata": {},
   "outputs": [
    {
     "name": "stdout",
     "output_type": "stream",
     "text": [
      "['merkel conserv warn close coalit option'\n",
      " 'eu juncker say dec meet may show brexit progress made'\n",
      " 'trump gain clinton despit furor women elect comment' ...\n",
      " 'trump aid name lead white hous commun say take job'\n",
      " 'afghan review trump frustrat carri echo obama year'\n",
      " 'obama veto septemb lawsuit bill friday white hous']\n"
     ]
    }
   ],
   "source": [
    "print(x)"
   ]
  },
  {
   "cell_type": "code",
   "execution_count": 16,
   "id": "dcb93657",
   "metadata": {},
   "outputs": [
    {
     "name": "stdout",
     "output_type": "stream",
     "text": [
      "[1 1 1 ... 1 1 1]\n"
     ]
    }
   ],
   "source": [
    "print(y)"
   ]
  },
  {
   "cell_type": "code",
   "execution_count": 17,
   "id": "238cceed",
   "metadata": {},
   "outputs": [
    {
     "data": {
      "text/plain": [
       "(23513,)"
      ]
     },
     "execution_count": 17,
     "metadata": {},
     "output_type": "execute_result"
    }
   ],
   "source": [
    "y.shape"
   ]
  },
  {
   "cell_type": "code",
   "execution_count": 18,
   "id": "afbef682",
   "metadata": {},
   "outputs": [],
   "source": [
    "x_train, x_test, y_train, y_test = train_test_split(x, y, test_size=0.30)"
   ]
  },
  {
   "cell_type": "code",
   "execution_count": 19,
   "id": "8466b9da",
   "metadata": {},
   "outputs": [
    {
     "data": {
      "text/plain": [
       "array(['franc skip winter game secur assur',\n",
       "       'smaller eu state need stronger voic brussel say czech elect favorit',\n",
       "       'unforc error miscalcul end bush white hous hope', ...,\n",
       "       'snub feder reserv nomine warn trump struggl fill key post',\n",
       "       'trump visit fbi headquart msnbc',\n",
       "       'u state could set self drive car rule republican plan'],\n",
       "      dtype=object)"
      ]
     },
     "execution_count": 19,
     "metadata": {},
     "output_type": "execute_result"
    }
   ],
   "source": [
    "x_train"
   ]
  },
  {
   "cell_type": "code",
   "execution_count": 20,
   "id": "b5bec58f",
   "metadata": {},
   "outputs": [],
   "source": [
    "vectorization = TfidfVectorizer()\n",
    "xv_train = vectorization.fit_transform(x_train)\n",
    "xv_test = vectorization.transform(x_test)"
   ]
  },
  {
   "cell_type": "code",
   "execution_count": 21,
   "id": "2ea6afac",
   "metadata": {},
   "outputs": [
    {
     "name": "stdout",
     "output_type": "stream",
     "text": [
      "  (0, 460)\t0.4457812381970106\n",
      "  (0, 7249)\t0.2920515776678631\n",
      "  (0, 3258)\t0.41434687791218006\n",
      "  (0, 9088)\t0.47218196479444047\n",
      "  (0, 7510)\t0.4668282657112995\n",
      "  (0, 3151)\t0.32158543324212235\n",
      "  (1, 2896)\t0.36858825786299776\n",
      "  (1, 2512)\t0.19598388318680438\n",
      "  (1, 1912)\t0.3226370097895283\n",
      "  (1, 7139)\t0.13184612321241587\n",
      "  (1, 1046)\t0.339909986796702\n",
      "  (1, 8877)\t0.3358753383063789\n",
      "  (1, 7899)\t0.3611793171587242\n",
      "  (1, 5432)\t0.26115409100358233\n",
      "  (1, 7794)\t0.19115502341571797\n",
      "  (1, 2696)\t0.20833322300129645\n",
      "  (1, 7561)\t0.44419477509712996\n",
      "  (2, 3825)\t0.27802753901422234\n",
      "  (2, 3843)\t0.18562013536125718\n",
      "  (2, 9052)\t0.2115289358858751\n",
      "  (2, 1096)\t0.3516725698597835\n",
      "  (2, 2576)\t0.2717299703004813\n",
      "  (2, 5163)\t0.4705438421127004\n",
      "  (2, 2661)\t0.4290570960201553\n",
      "  (2, 8614)\t0.49039686992724324\n",
      "  :\t:\n",
      "  (16455, 6277)\t0.36141823583172794\n",
      "  (16456, 7906)\t0.3536817276341402\n",
      "  (16456, 2911)\t0.31700982689756924\n",
      "  (16456, 7589)\t0.41195387276087786\n",
      "  (16456, 6209)\t0.2834615831543131\n",
      "  (16456, 5534)\t0.28499821649779467\n",
      "  (16456, 2973)\t0.36448184982922355\n",
      "  (16456, 6802)\t0.3784056290176217\n",
      "  (16456, 8456)\t0.11485375733253463\n",
      "  (16456, 4386)\t0.29123859193020424\n",
      "  (16456, 8947)\t0.2628391474725571\n",
      "  (16457, 3666)\t0.6092980417521758\n",
      "  (16457, 5313)\t0.5563045248536683\n",
      "  (16457, 2897)\t0.38831995654252077\n",
      "  (16457, 8866)\t0.37584993019002666\n",
      "  (16457, 8456)\t0.16500185838730727\n",
      "  (16458, 7270)\t0.431815280761535\n",
      "  (16458, 2381)\t0.39709790522705196\n",
      "  (16458, 7320)\t0.3434846286104981\n",
      "  (16458, 1760)\t0.3232786158748634\n",
      "  (16458, 7026)\t0.2856430218131863\n",
      "  (16458, 1191)\t0.39363635731667257\n",
      "  (16458, 6108)\t0.27349275672960016\n",
      "  (16458, 6789)\t0.24285959975250598\n",
      "  (16458, 7794)\t0.25107264387792894\n"
     ]
    }
   ],
   "source": [
    "print(xv_train)"
   ]
  },
  {
   "cell_type": "markdown",
   "id": "23e0f74f",
   "metadata": {},
   "source": [
    "###  Decision Tree Classification"
   ]
  },
  {
   "cell_type": "code",
   "execution_count": 22,
   "id": "c8d22a7e",
   "metadata": {},
   "outputs": [],
   "source": [
    "from sklearn.tree import DecisionTreeClassifier"
   ]
  },
  {
   "cell_type": "code",
   "execution_count": 23,
   "id": "b743ad43",
   "metadata": {},
   "outputs": [
    {
     "data": {
      "text/plain": [
       "DecisionTreeClassifier()"
      ]
     },
     "execution_count": 23,
     "metadata": {},
     "output_type": "execute_result"
    }
   ],
   "source": [
    "DT = DecisionTreeClassifier()\n",
    "DT.fit(xv_train, y_train)"
   ]
  },
  {
   "cell_type": "code",
   "execution_count": 24,
   "id": "67a19a47",
   "metadata": {},
   "outputs": [],
   "source": [
    "pred_dt = DT.predict(xv_test)"
   ]
  },
  {
   "cell_type": "code",
   "execution_count": 25,
   "id": "91da1f0c",
   "metadata": {},
   "outputs": [
    {
     "data": {
      "text/plain": [
       "0.9277005954068613"
      ]
     },
     "execution_count": 25,
     "metadata": {},
     "output_type": "execute_result"
    }
   ],
   "source": [
    "DT.score(xv_test, y_test)"
   ]
  },
  {
   "cell_type": "code",
   "execution_count": 26,
   "id": "3cf547b8",
   "metadata": {},
   "outputs": [],
   "source": [
    "from sklearn.metrics import classification_report"
   ]
  },
  {
   "cell_type": "code",
   "execution_count": 27,
   "id": "5a61ed9b",
   "metadata": {},
   "outputs": [
    {
     "name": "stdout",
     "output_type": "stream",
     "text": [
      "              precision    recall  f1-score   support\n",
      "\n",
      "           0       0.59      0.62      0.60       627\n",
      "           1       0.96      0.96      0.96      6427\n",
      "\n",
      "    accuracy                           0.93      7054\n",
      "   macro avg       0.78      0.79      0.78      7054\n",
      "weighted avg       0.93      0.93      0.93      7054\n",
      "\n"
     ]
    }
   ],
   "source": [
    "print(classification_report(y_test, pred_dt))"
   ]
  },
  {
   "cell_type": "code",
   "execution_count": 28,
   "id": "5b3c34f6",
   "metadata": {},
   "outputs": [],
   "source": [
    "y_pred = DT.predict(xv_test)"
   ]
  },
  {
   "cell_type": "code",
   "execution_count": 29,
   "id": "9a4fc166",
   "metadata": {},
   "outputs": [
    {
     "name": "stdout",
     "output_type": "stream",
     "text": [
      "[[ 390  237]\n",
      " [ 273 6154]]\n"
     ]
    }
   ],
   "source": [
    "from sklearn.metrics import classification_report, confusion_matrix\n",
    "print(confusion_matrix(y_test, y_pred)) "
   ]
  },
  {
   "cell_type": "code",
   "execution_count": 30,
   "id": "1f4371c4",
   "metadata": {},
   "outputs": [
    {
     "name": "stdout",
     "output_type": "stream",
     "text": [
      "Mean Absolute Error: 0.07229940459313865\n",
      "Mean Squared Error: 0.07229940459313865\n",
      "Root Mean Squared Error: 0.26888548602172385\n"
     ]
    }
   ],
   "source": [
    "from sklearn import metrics\n",
    "print('Mean Absolute Error:', metrics.mean_absolute_error(y_test, y_pred))        #error\n",
    "print('Mean Squared Error:', metrics.mean_squared_error(y_test, y_pred))\n",
    "print('Root Mean Squared Error:', np.sqrt(metrics.mean_squared_error(y_test, y_pred)))"
   ]
  },
  {
   "cell_type": "markdown",
   "id": "d5039a2f",
   "metadata": {},
   "source": [
    "###  Naive Bayes using Bernoulli naive bayes"
   ]
  },
  {
   "cell_type": "code",
   "execution_count": 31,
   "id": "e12fb22b",
   "metadata": {},
   "outputs": [],
   "source": [
    "from sklearn.naive_bayes import BernoulliNB"
   ]
  },
  {
   "cell_type": "code",
   "execution_count": 32,
   "id": "88482657",
   "metadata": {},
   "outputs": [],
   "source": [
    "BNB = BernoulliNB()"
   ]
  },
  {
   "cell_type": "code",
   "execution_count": 33,
   "id": "5c29f66f",
   "metadata": {},
   "outputs": [
    {
     "data": {
      "text/plain": [
       "BernoulliNB()"
      ]
     },
     "execution_count": 33,
     "metadata": {},
     "output_type": "execute_result"
    }
   ],
   "source": [
    "BNB.fit(xv_train, y_train)"
   ]
  },
  {
   "cell_type": "code",
   "execution_count": 34,
   "id": "488d69aa",
   "metadata": {},
   "outputs": [
    {
     "name": "stdout",
     "output_type": "stream",
     "text": [
      "              precision    recall  f1-score   support\n",
      "\n",
      "           0       0.90      0.33      0.49       627\n",
      "           1       0.94      1.00      0.97      6427\n",
      "\n",
      "    accuracy                           0.94      7054\n",
      "   macro avg       0.92      0.67      0.73      7054\n",
      "weighted avg       0.94      0.94      0.92      7054\n",
      "\n"
     ]
    }
   ],
   "source": [
    "pred_bnb = BNB.predict(xv_test)\n",
    "BNB.score(xv_test,y_test)\n",
    "print(classification_report(y_test, pred_bnb)) "
   ]
  },
  {
   "cell_type": "code",
   "execution_count": 35,
   "id": "cf13bd0c",
   "metadata": {},
   "outputs": [
    {
     "name": "stdout",
     "output_type": "stream",
     "text": [
      "[[ 210  417]\n",
      " [  24 6403]]\n"
     ]
    }
   ],
   "source": [
    "print(confusion_matrix(y_test, pred_bnb)) "
   ]
  },
  {
   "cell_type": "code",
   "execution_count": 36,
   "id": "413404f5",
   "metadata": {},
   "outputs": [
    {
     "name": "stdout",
     "output_type": "stream",
     "text": [
      "Mean Absolute Error: 0.06251772044230224\n",
      "Mean Squared Error: 0.06251772044230224\n",
      "Root Mean Squared Error: 0.2500354383728479\n"
     ]
    }
   ],
   "source": [
    "print('Mean Absolute Error:', metrics.mean_absolute_error(y_test, pred_bnb))\n",
    "print('Mean Squared Error:', metrics.mean_squared_error(y_test, pred_bnb))                 #error\n",
    "print('Root Mean Squared Error:', np.sqrt(metrics.mean_squared_error(y_test, pred_bnb)))"
   ]
  },
  {
   "cell_type": "markdown",
   "id": "6c20962c",
   "metadata": {},
   "source": [
    "###  K nearest neighbor"
   ]
  },
  {
   "cell_type": "code",
   "execution_count": 37,
   "id": "63316e2e",
   "metadata": {},
   "outputs": [],
   "source": [
    "from sklearn.neighbors import KNeighborsClassifier"
   ]
  },
  {
   "cell_type": "code",
   "execution_count": 38,
   "id": "1ad9c58d",
   "metadata": {},
   "outputs": [
    {
     "data": {
      "text/plain": [
       "KNeighborsClassifier()"
      ]
     },
     "execution_count": 38,
     "metadata": {},
     "output_type": "execute_result"
    }
   ],
   "source": [
    "ng = KNeighborsClassifier()\n",
    "ng.fit(xv_test, y_test)"
   ]
  },
  {
   "cell_type": "code",
   "execution_count": 39,
   "id": "3a73680e",
   "metadata": {},
   "outputs": [],
   "source": [
    "pred_knn = ng.predict(xv_test)"
   ]
  },
  {
   "cell_type": "code",
   "execution_count": 40,
   "id": "08c00216",
   "metadata": {},
   "outputs": [
    {
     "data": {
      "text/plain": [
       "0.13821944995747093"
      ]
     },
     "execution_count": 40,
     "metadata": {},
     "output_type": "execute_result"
    }
   ],
   "source": [
    "ng.score(xv_test,y_test)"
   ]
  },
  {
   "cell_type": "code",
   "execution_count": 41,
   "id": "462227e0",
   "metadata": {},
   "outputs": [
    {
     "name": "stdout",
     "output_type": "stream",
     "text": [
      "              precision    recall  f1-score   support\n",
      "\n",
      "           0       0.09      1.00      0.17       627\n",
      "           1       1.00      0.05      0.10      6427\n",
      "\n",
      "    accuracy                           0.14      7054\n",
      "   macro avg       0.55      0.53      0.14      7054\n",
      "weighted avg       0.92      0.14      0.11      7054\n",
      "\n"
     ]
    }
   ],
   "source": [
    "print(classification_report(y_test, pred_knn))      # Precision , Recall , F-measure , Accuracy"
   ]
  },
  {
   "cell_type": "code",
   "execution_count": 42,
   "id": "dde07522",
   "metadata": {},
   "outputs": [
    {
     "name": "stdout",
     "output_type": "stream",
     "text": [
      "[[ 626    1]\n",
      " [6078  349]]\n"
     ]
    }
   ],
   "source": [
    "print(confusion_matrix(y_test, pred_knn))                  #confusion Matrix"
   ]
  },
  {
   "cell_type": "code",
   "execution_count": 43,
   "id": "a5dbb38e",
   "metadata": {},
   "outputs": [
    {
     "name": "stdout",
     "output_type": "stream",
     "text": [
      "Mean Absolute Error: 0.8617805500425291\n",
      "Mean Squared Error: 0.8617805500425291\n",
      "Root Mean Squared Error: 0.9283213614059137\n"
     ]
    }
   ],
   "source": [
    "print('Mean Absolute Error:', metrics.mean_absolute_error(y_test, pred_knn))\n",
    "print('Mean Squared Error:', metrics.mean_squared_error(y_test, pred_knn))                 #error\n",
    "print('Root Mean Squared Error:', np.sqrt(metrics.mean_squared_error(y_test, pred_knn)))"
   ]
  },
  {
   "cell_type": "markdown",
   "id": "2659e520",
   "metadata": {},
   "source": [
    "### Support Vector Machine"
   ]
  },
  {
   "cell_type": "code",
   "execution_count": 44,
   "id": "39a0707b",
   "metadata": {},
   "outputs": [],
   "source": [
    "from sklearn.svm import LinearSVC"
   ]
  },
  {
   "cell_type": "code",
   "execution_count": 45,
   "id": "bccf07d5",
   "metadata": {},
   "outputs": [],
   "source": [
    "ls = LinearSVC()"
   ]
  },
  {
   "cell_type": "code",
   "execution_count": 46,
   "id": "ac1da2e3",
   "metadata": {},
   "outputs": [
    {
     "data": {
      "text/plain": [
       "LinearSVC()"
      ]
     },
     "execution_count": 46,
     "metadata": {},
     "output_type": "execute_result"
    }
   ],
   "source": [
    "ls.fit(xv_test, y_test)"
   ]
  },
  {
   "cell_type": "code",
   "execution_count": 47,
   "id": "d09229ba",
   "metadata": {},
   "outputs": [],
   "source": [
    "pred_ls = ls.predict(xv_test)"
   ]
  },
  {
   "cell_type": "code",
   "execution_count": 48,
   "id": "357c1f47",
   "metadata": {},
   "outputs": [
    {
     "data": {
      "text/plain": [
       "0.994754749078537"
      ]
     },
     "execution_count": 48,
     "metadata": {},
     "output_type": "execute_result"
    }
   ],
   "source": [
    "ls.score(xv_test,y_test)"
   ]
  },
  {
   "cell_type": "code",
   "execution_count": 49,
   "id": "d1693a6c",
   "metadata": {},
   "outputs": [
    {
     "name": "stdout",
     "output_type": "stream",
     "text": [
      "              precision    recall  f1-score   support\n",
      "\n",
      "           0       0.99      0.95      0.97       627\n",
      "           1       0.99      1.00      1.00      6427\n",
      "\n",
      "    accuracy                           0.99      7054\n",
      "   macro avg       0.99      0.97      0.98      7054\n",
      "weighted avg       0.99      0.99      0.99      7054\n",
      "\n"
     ]
    }
   ],
   "source": [
    "print(classification_report(y_test, pred_ls))      # Precision , Recall , F-measure , Accuracy"
   ]
  },
  {
   "cell_type": "code",
   "execution_count": 50,
   "id": "58919d74",
   "metadata": {},
   "outputs": [
    {
     "name": "stdout",
     "output_type": "stream",
     "text": [
      "[[ 594   33]\n",
      " [   4 6423]]\n"
     ]
    }
   ],
   "source": [
    "print(confusion_matrix(y_test, pred_ls))                  #confusion Matrix"
   ]
  },
  {
   "cell_type": "code",
   "execution_count": 51,
   "id": "7efc19d5",
   "metadata": {},
   "outputs": [
    {
     "name": "stdout",
     "output_type": "stream",
     "text": [
      "Mean Absolute Error: 0.0052452509214629996\n",
      "Mean Squared Error: 0.0052452509214629996\n",
      "Root Mean Squared Error: 0.07242410456100233\n"
     ]
    }
   ],
   "source": [
    "print('Mean Absolute Error:', metrics.mean_absolute_error(y_test, pred_ls))\n",
    "print('Mean Squared Error:', metrics.mean_squared_error(y_test, pred_ls))                 #error\n",
    "print('Root Mean Squared Error:', np.sqrt(metrics.mean_squared_error(y_test, pred_ls)))"
   ]
  },
  {
   "cell_type": "markdown",
   "id": "266a4431",
   "metadata": {},
   "source": [
    "### ANN (Artificial Neural Network)"
   ]
  },
  {
   "cell_type": "code",
   "execution_count": 52,
   "id": "0c47888a",
   "metadata": {},
   "outputs": [],
   "source": [
    "from sklearn.neural_network import MLPClassifier"
   ]
  },
  {
   "cell_type": "code",
   "execution_count": 53,
   "id": "ec816ba6",
   "metadata": {},
   "outputs": [],
   "source": [
    "ann = MLPClassifier()"
   ]
  },
  {
   "cell_type": "code",
   "execution_count": 54,
   "id": "47a3b28c",
   "metadata": {},
   "outputs": [
    {
     "data": {
      "text/plain": [
       "MLPClassifier()"
      ]
     },
     "execution_count": 54,
     "metadata": {},
     "output_type": "execute_result"
    }
   ],
   "source": [
    "ann.fit(xv_test, y_test)"
   ]
  },
  {
   "cell_type": "code",
   "execution_count": 55,
   "id": "4f36ade2",
   "metadata": {},
   "outputs": [],
   "source": [
    "pred_ann = ann.predict(xv_test)"
   ]
  },
  {
   "cell_type": "code",
   "execution_count": 56,
   "id": "fcb54305",
   "metadata": {},
   "outputs": [
    {
     "data": {
      "text/plain": [
       "1.0"
      ]
     },
     "execution_count": 56,
     "metadata": {},
     "output_type": "execute_result"
    }
   ],
   "source": [
    "ann.score(xv_test,y_test)"
   ]
  },
  {
   "cell_type": "code",
   "execution_count": 57,
   "id": "d32c5b82",
   "metadata": {},
   "outputs": [
    {
     "name": "stdout",
     "output_type": "stream",
     "text": [
      "              precision    recall  f1-score   support\n",
      "\n",
      "           0       1.00      1.00      1.00       627\n",
      "           1       1.00      1.00      1.00      6427\n",
      "\n",
      "    accuracy                           1.00      7054\n",
      "   macro avg       1.00      1.00      1.00      7054\n",
      "weighted avg       1.00      1.00      1.00      7054\n",
      "\n"
     ]
    }
   ],
   "source": [
    "print(classification_report(y_test, pred_ann))      # Precision , Recall , F-measure , Accuracy"
   ]
  },
  {
   "cell_type": "code",
   "execution_count": 58,
   "id": "3d48d43d",
   "metadata": {},
   "outputs": [
    {
     "name": "stdout",
     "output_type": "stream",
     "text": [
      "[[ 627    0]\n",
      " [   0 6427]]\n"
     ]
    }
   ],
   "source": [
    "print(confusion_matrix(y_test, pred_ann))                  #confusion Matrix"
   ]
  },
  {
   "cell_type": "code",
   "execution_count": 59,
   "id": "7530b351",
   "metadata": {},
   "outputs": [
    {
     "name": "stdout",
     "output_type": "stream",
     "text": [
      "Mean Absolute Error: 0.0\n",
      "Mean Squared Error: 0.0\n",
      "Root Mean Squared Error: 0.0\n"
     ]
    }
   ],
   "source": [
    "print('Mean Absolute Error:', metrics.mean_absolute_error(y_test, pred_ann))\n",
    "print('Mean Squared Error:', metrics.mean_squared_error(y_test, pred_ann))                 #error\n",
    "print('Root Mean Squared Error:', np.sqrt(metrics.mean_squared_error(y_test, pred_ann)))"
   ]
  }
 ],
 "metadata": {
  "kernelspec": {
   "display_name": "Python 3 (ipykernel)",
   "language": "python",
   "name": "python3"
  },
  "language_info": {
   "codemirror_mode": {
    "name": "ipython",
    "version": 3
   },
   "file_extension": ".py",
   "mimetype": "text/x-python",
   "name": "python",
   "nbconvert_exporter": "python",
   "pygments_lexer": "ipython3",
   "version": "3.9.7"
  }
 },
 "nbformat": 4,
 "nbformat_minor": 5
}
